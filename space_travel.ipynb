{
 "cells": [
  {
   "cell_type": "code",
   "execution_count": 1,
   "metadata": {},
   "outputs": [],
   "source": [
    "import pandas as pd\n",
    "import matplotlib.pyplot as plt\n",
    "%matplotlib inline\n",
    "import seaborn as sns\n",
    "import random\n",
    "import numpy as np\n",
    "\n",
    "from sklearn.linear_model import LogisticRegression\n",
    "from sklearn.svm import SVC\n",
    "from sklearn.ensemble import RandomForestClassifier\n",
    "from sklearn.metrics import accuracy_score\n",
    "from sklearn.metrics import classification_report\n",
    "from xgboost import XGBClassifier\n",
    "from tensorflow.keras.models import Sequential,load_model\n",
    "from tensorflow.keras.layers import Dense"
   ]
  },
  {
   "cell_type": "code",
   "execution_count": 2,
   "metadata": {},
   "outputs": [],
   "source": [
    "df = pd.read_csv(\"Space Travel.csv\")"
   ]
  },
  {
   "cell_type": "code",
   "execution_count": 3,
   "metadata": {},
   "outputs": [
    {
     "data": {
      "text/html": [
       "<div>\n",
       "<style scoped>\n",
       "    .dataframe tbody tr th:only-of-type {\n",
       "        vertical-align: middle;\n",
       "    }\n",
       "\n",
       "    .dataframe tbody tr th {\n",
       "        vertical-align: top;\n",
       "    }\n",
       "\n",
       "    .dataframe thead th {\n",
       "        text-align: right;\n",
       "    }\n",
       "</style>\n",
       "<table border=\"1\" class=\"dataframe\">\n",
       "  <thead>\n",
       "    <tr style=\"text-align: right;\">\n",
       "      <th></th>\n",
       "      <th>Unnamed: 0</th>\n",
       "      <th>PassengerId</th>\n",
       "      <th>HomePlanet</th>\n",
       "      <th>CryoSleep</th>\n",
       "      <th>Cabin</th>\n",
       "      <th>Destination</th>\n",
       "      <th>Age</th>\n",
       "      <th>Travel company</th>\n",
       "      <th>Name</th>\n",
       "      <th>VIP</th>\n",
       "      <th>RoomService</th>\n",
       "      <th>FoodCourt</th>\n",
       "      <th>Travel Outcome</th>\n",
       "    </tr>\n",
       "  </thead>\n",
       "  <tbody>\n",
       "    <tr>\n",
       "      <th>0</th>\n",
       "      <td>0</td>\n",
       "      <td>0001_01</td>\n",
       "      <td>Europa</td>\n",
       "      <td>False</td>\n",
       "      <td>B/0/P</td>\n",
       "      <td>TRAPPIST-1e</td>\n",
       "      <td>39.0</td>\n",
       "      <td>Tulsa Inc</td>\n",
       "      <td>Maham Ofracculy</td>\n",
       "      <td>False</td>\n",
       "      <td>0.0</td>\n",
       "      <td>0.0</td>\n",
       "      <td>Succesfully reached Destination</td>\n",
       "    </tr>\n",
       "    <tr>\n",
       "      <th>1</th>\n",
       "      <td>1</td>\n",
       "      <td>0002_01</td>\n",
       "      <td>Earth</td>\n",
       "      <td>False</td>\n",
       "      <td>F/0/S</td>\n",
       "      <td>TRAPPIST-1e</td>\n",
       "      <td>24.0</td>\n",
       "      <td>Blue Horizon</td>\n",
       "      <td>Juanna Vines</td>\n",
       "      <td>False</td>\n",
       "      <td>109.0</td>\n",
       "      <td>9.0</td>\n",
       "      <td>Succesfully reached Destination</td>\n",
       "    </tr>\n",
       "    <tr>\n",
       "      <th>2</th>\n",
       "      <td>2</td>\n",
       "      <td>0003_01</td>\n",
       "      <td>Europa</td>\n",
       "      <td>False</td>\n",
       "      <td>A/0/S</td>\n",
       "      <td>TRAPPIST-1e</td>\n",
       "      <td>58.0</td>\n",
       "      <td>Blue Horizon</td>\n",
       "      <td>Altark Susent</td>\n",
       "      <td>True</td>\n",
       "      <td>43.0</td>\n",
       "      <td>3576.0</td>\n",
       "      <td>Reached wrong destination</td>\n",
       "    </tr>\n",
       "    <tr>\n",
       "      <th>3</th>\n",
       "      <td>3</td>\n",
       "      <td>0003_02</td>\n",
       "      <td>Europa</td>\n",
       "      <td>False</td>\n",
       "      <td>A/0/S</td>\n",
       "      <td>TRAPPIST-1e</td>\n",
       "      <td>33.0</td>\n",
       "      <td>Tulsa Inc</td>\n",
       "      <td>Solam Susent</td>\n",
       "      <td>False</td>\n",
       "      <td>0.0</td>\n",
       "      <td>1283.0</td>\n",
       "      <td>Succesfully reached Destination</td>\n",
       "    </tr>\n",
       "    <tr>\n",
       "      <th>4</th>\n",
       "      <td>4</td>\n",
       "      <td>0004_01</td>\n",
       "      <td>Earth</td>\n",
       "      <td>False</td>\n",
       "      <td>F/1/S</td>\n",
       "      <td>TRAPPIST-1e</td>\n",
       "      <td>16.0</td>\n",
       "      <td>Blue Horizon</td>\n",
       "      <td>Willy Santantines</td>\n",
       "      <td>False</td>\n",
       "      <td>303.0</td>\n",
       "      <td>70.0</td>\n",
       "      <td>Succesfully reached Destination</td>\n",
       "    </tr>\n",
       "  </tbody>\n",
       "</table>\n",
       "</div>"
      ],
      "text/plain": [
       "   Unnamed: 0 PassengerId HomePlanet CryoSleep  Cabin  Destination   Age  \\\n",
       "0           0     0001_01     Europa     False  B/0/P  TRAPPIST-1e  39.0   \n",
       "1           1     0002_01      Earth     False  F/0/S  TRAPPIST-1e  24.0   \n",
       "2           2     0003_01     Europa     False  A/0/S  TRAPPIST-1e  58.0   \n",
       "3           3     0003_02     Europa     False  A/0/S  TRAPPIST-1e  33.0   \n",
       "4           4     0004_01      Earth     False  F/1/S  TRAPPIST-1e  16.0   \n",
       "\n",
       "  Travel company               Name    VIP  RoomService  FoodCourt  \\\n",
       "0      Tulsa Inc    Maham Ofracculy  False          0.0        0.0   \n",
       "1   Blue Horizon       Juanna Vines  False        109.0        9.0   \n",
       "2   Blue Horizon      Altark Susent   True         43.0     3576.0   \n",
       "3      Tulsa Inc       Solam Susent  False          0.0     1283.0   \n",
       "4   Blue Horizon  Willy Santantines  False        303.0       70.0   \n",
       "\n",
       "                    Travel Outcome  \n",
       "0  Succesfully reached Destination  \n",
       "1  Succesfully reached Destination  \n",
       "2        Reached wrong destination  \n",
       "3  Succesfully reached Destination  \n",
       "4  Succesfully reached Destination  "
      ]
     },
     "execution_count": 3,
     "metadata": {},
     "output_type": "execute_result"
    }
   ],
   "source": [
    "df.head()"
   ]
  },
  {
   "cell_type": "markdown",
   "metadata": {},
   "source": [
    "## _Performing EDA_"
   ]
  },
  {
   "cell_type": "code",
   "execution_count": 4,
   "metadata": {
    "scrolled": true
   },
   "outputs": [
    {
     "name": "stdout",
     "output_type": "stream",
     "text": [
      "<class 'pandas.core.frame.DataFrame'>\n",
      "RangeIndex: 8693 entries, 0 to 8692\n",
      "Data columns (total 13 columns):\n",
      " #   Column          Non-Null Count  Dtype  \n",
      "---  ------          --------------  -----  \n",
      " 0   Unnamed: 0      8693 non-null   int64  \n",
      " 1   PassengerId     8693 non-null   object \n",
      " 2   HomePlanet      8492 non-null   object \n",
      " 3   CryoSleep       8476 non-null   object \n",
      " 4   Cabin           8494 non-null   object \n",
      " 5   Destination     8511 non-null   object \n",
      " 6   Age             8514 non-null   float64\n",
      " 7   Travel company  8693 non-null   object \n",
      " 8   Name            8493 non-null   object \n",
      " 9   VIP             8490 non-null   object \n",
      " 10  RoomService     8512 non-null   float64\n",
      " 11  FoodCourt       8510 non-null   float64\n",
      " 12  Travel Outcome  8693 non-null   object \n",
      "dtypes: float64(3), int64(1), object(9)\n",
      "memory usage: 883.0+ KB\n"
     ]
    }
   ],
   "source": [
    "df.info()"
   ]
  },
  {
   "cell_type": "code",
   "execution_count": 5,
   "metadata": {},
   "outputs": [
    {
     "data": {
      "text/html": [
       "<div>\n",
       "<style scoped>\n",
       "    .dataframe tbody tr th:only-of-type {\n",
       "        vertical-align: middle;\n",
       "    }\n",
       "\n",
       "    .dataframe tbody tr th {\n",
       "        vertical-align: top;\n",
       "    }\n",
       "\n",
       "    .dataframe thead th {\n",
       "        text-align: right;\n",
       "    }\n",
       "</style>\n",
       "<table border=\"1\" class=\"dataframe\">\n",
       "  <thead>\n",
       "    <tr style=\"text-align: right;\">\n",
       "      <th></th>\n",
       "      <th>Unnamed: 0</th>\n",
       "      <th>Age</th>\n",
       "      <th>RoomService</th>\n",
       "      <th>FoodCourt</th>\n",
       "    </tr>\n",
       "  </thead>\n",
       "  <tbody>\n",
       "    <tr>\n",
       "      <th>count</th>\n",
       "      <td>8693.000000</td>\n",
       "      <td>8514.000000</td>\n",
       "      <td>8512.000000</td>\n",
       "      <td>8510.000000</td>\n",
       "    </tr>\n",
       "    <tr>\n",
       "      <th>mean</th>\n",
       "      <td>4346.000000</td>\n",
       "      <td>28.827930</td>\n",
       "      <td>224.687617</td>\n",
       "      <td>458.077203</td>\n",
       "    </tr>\n",
       "    <tr>\n",
       "      <th>std</th>\n",
       "      <td>2509.597278</td>\n",
       "      <td>14.489021</td>\n",
       "      <td>666.717663</td>\n",
       "      <td>1611.489240</td>\n",
       "    </tr>\n",
       "    <tr>\n",
       "      <th>min</th>\n",
       "      <td>0.000000</td>\n",
       "      <td>0.000000</td>\n",
       "      <td>0.000000</td>\n",
       "      <td>0.000000</td>\n",
       "    </tr>\n",
       "    <tr>\n",
       "      <th>25%</th>\n",
       "      <td>2173.000000</td>\n",
       "      <td>19.000000</td>\n",
       "      <td>0.000000</td>\n",
       "      <td>0.000000</td>\n",
       "    </tr>\n",
       "    <tr>\n",
       "      <th>50%</th>\n",
       "      <td>4346.000000</td>\n",
       "      <td>27.000000</td>\n",
       "      <td>0.000000</td>\n",
       "      <td>0.000000</td>\n",
       "    </tr>\n",
       "    <tr>\n",
       "      <th>75%</th>\n",
       "      <td>6519.000000</td>\n",
       "      <td>38.000000</td>\n",
       "      <td>47.000000</td>\n",
       "      <td>76.000000</td>\n",
       "    </tr>\n",
       "    <tr>\n",
       "      <th>max</th>\n",
       "      <td>8692.000000</td>\n",
       "      <td>79.000000</td>\n",
       "      <td>14327.000000</td>\n",
       "      <td>29813.000000</td>\n",
       "    </tr>\n",
       "  </tbody>\n",
       "</table>\n",
       "</div>"
      ],
      "text/plain": [
       "        Unnamed: 0          Age   RoomService     FoodCourt\n",
       "count  8693.000000  8514.000000   8512.000000   8510.000000\n",
       "mean   4346.000000    28.827930    224.687617    458.077203\n",
       "std    2509.597278    14.489021    666.717663   1611.489240\n",
       "min       0.000000     0.000000      0.000000      0.000000\n",
       "25%    2173.000000    19.000000      0.000000      0.000000\n",
       "50%    4346.000000    27.000000      0.000000      0.000000\n",
       "75%    6519.000000    38.000000     47.000000     76.000000\n",
       "max    8692.000000    79.000000  14327.000000  29813.000000"
      ]
     },
     "execution_count": 5,
     "metadata": {},
     "output_type": "execute_result"
    }
   ],
   "source": [
    "df.describe()"
   ]
  },
  {
   "cell_type": "markdown",
   "metadata": {},
   "source": [
    "#### We can say that 'Unnamed: 0','PassengerId','Name' these columns can be dropped "
   ]
  },
  {
   "cell_type": "code",
   "execution_count": 6,
   "metadata": {},
   "outputs": [],
   "source": [
    "df.drop(['Unnamed: 0','PassengerId','Name'],inplace=True,axis=1)"
   ]
  },
  {
   "cell_type": "code",
   "execution_count": 7,
   "metadata": {},
   "outputs": [
    {
     "data": {
      "image/png": "[encoded data removed]",
      "text/plain": [
       "<Figure size 720x576 with 1 Axes>"
      ]
     },
     "metadata": {
      "needs_background": "light"
     },
     "output_type": "display_data"
    }
   ],
   "source": [
    "def unique_plot(df,col_name,chart='bar'):\n",
    "    plot = plt.figure(figsize=(10,8))\n",
    "    if chart == 'bar':\n",
    "        plt.bar(list(df[col_name].value_counts().index),list(df[col_name].value_counts().values))\n",
    "        plt.show()\n",
    "    elif chart == 'pie':\n",
    "        plt.pie(list(df[col_name].value_counts().values),labels=list(df[col_name].value_counts().index))\n",
    "    else:\n",
    "        return 'Invalid plot parameter'\n",
    "unique_plot(df,'Destination','bar')"
   ]
  },
  {
   "cell_type": "code",
   "execution_count": 8,
   "metadata": {},
   "outputs": [
    {
     "data": {
      "image/png": "[encoded data removed]",
      "text/plain": [
       "<Figure size 720x576 with 1 Axes>"
      ]
     },
     "metadata": {
      "needs_background": "light"
     },
     "output_type": "display_data"
    }
   ],
   "source": [
    "unique_plot(df,'Travel company','bar')"
   ]
  },
  {
   "cell_type": "code",
   "execution_count": 9,
   "metadata": {},
   "outputs": [
    {
     "data": {
      "text/plain": [
       "HomePlanet        201\n",
       "CryoSleep         217\n",
       "Cabin             199\n",
       "Destination       182\n",
       "Age               179\n",
       "Travel company      0\n",
       "VIP               203\n",
       "RoomService       181\n",
       "FoodCourt         183\n",
       "Travel Outcome      0\n",
       "dtype: int64"
      ]
     },
     "execution_count": 9,
     "metadata": {},
     "output_type": "execute_result"
    }
   ],
   "source": [
    "df.isnull().sum()"
   ]
  },
  {
   "cell_type": "code",
   "execution_count": 10,
   "metadata": {},
   "outputs": [
    {
     "data": {
      "text/plain": [
       "'17.772920740825953% data is null'"
      ]
     },
     "execution_count": 10,
     "metadata": {},
     "output_type": "execute_result"
    }
   ],
   "source": [
    "def percent_unll(df):\n",
    "    return str((df.isnull().sum() * 100 / len(df)).sum()) + '% data is null'\n",
    "percent_unll(df)"
   ]
  },
  {
   "cell_type": "markdown",
   "metadata": {},
   "source": [
    "#### Since 17.77% data is null, there is a need to handle the null values"
   ]
  },
  {
   "cell_type": "markdown",
   "metadata": {},
   "source": [
    "## _Data Preprocessing - Handling null values_ "
   ]
  },
  {
   "cell_type": "markdown",
   "metadata": {},
   "source": [
    "#### Handling null values in Cabin column"
   ]
  },
  {
   "cell_type": "code",
   "execution_count": 11,
   "metadata": {},
   "outputs": [],
   "source": [
    "df['Cabin'].fillna('-1/-1/-1',inplace=True)"
   ]
  },
  {
   "cell_type": "code",
   "execution_count": 12,
   "metadata": {},
   "outputs": [],
   "source": [
    "df[['Cols','Seat_number','P_S']] = df.Cabin.str.split(\"/\",expand=True)"
   ]
  },
  {
   "cell_type": "code",
   "execution_count": 13,
   "metadata": {},
   "outputs": [
    {
     "data": {
      "text/html": [
       "<div>\n",
       "<style scoped>\n",
       "    .dataframe tbody tr th:only-of-type {\n",
       "        vertical-align: middle;\n",
       "    }\n",
       "\n",
       "    .dataframe tbody tr th {\n",
       "        vertical-align: top;\n",
       "    }\n",
       "\n",
       "    .dataframe thead th {\n",
       "        text-align: right;\n",
       "    }\n",
       "</style>\n",
       "<table border=\"1\" class=\"dataframe\">\n",
       "  <thead>\n",
       "    <tr style=\"text-align: right;\">\n",
       "      <th></th>\n",
       "      <th>HomePlanet</th>\n",
       "      <th>CryoSleep</th>\n",
       "      <th>Cabin</th>\n",
       "      <th>Destination</th>\n",
       "      <th>Age</th>\n",
       "      <th>Travel company</th>\n",
       "      <th>VIP</th>\n",
       "      <th>RoomService</th>\n",
       "      <th>FoodCourt</th>\n",
       "      <th>Travel Outcome</th>\n",
       "      <th>Cols</th>\n",
       "      <th>Seat_number</th>\n",
       "      <th>P_S</th>\n",
       "    </tr>\n",
       "  </thead>\n",
       "  <tbody>\n",
       "    <tr>\n",
       "      <th>0</th>\n",
       "      <td>Europa</td>\n",
       "      <td>False</td>\n",
       "      <td>B/0/P</td>\n",
       "      <td>TRAPPIST-1e</td>\n",
       "      <td>39.0</td>\n",
       "      <td>Tulsa Inc</td>\n",
       "      <td>False</td>\n",
       "      <td>0.0</td>\n",
       "      <td>0.0</td>\n",
       "      <td>Succesfully reached Destination</td>\n",
       "      <td>B</td>\n",
       "      <td>0</td>\n",
       "      <td>P</td>\n",
       "    </tr>\n",
       "    <tr>\n",
       "      <th>1</th>\n",
       "      <td>Earth</td>\n",
       "      <td>False</td>\n",
       "      <td>F/0/S</td>\n",
       "      <td>TRAPPIST-1e</td>\n",
       "      <td>24.0</td>\n",
       "      <td>Blue Horizon</td>\n",
       "      <td>False</td>\n",
       "      <td>109.0</td>\n",
       "      <td>9.0</td>\n",
       "      <td>Succesfully reached Destination</td>\n",
       "      <td>F</td>\n",
       "      <td>0</td>\n",
       "      <td>S</td>\n",
       "    </tr>\n",
       "    <tr>\n",
       "      <th>2</th>\n",
       "      <td>Europa</td>\n",
       "      <td>False</td>\n",
       "      <td>A/0/S</td>\n",
       "      <td>TRAPPIST-1e</td>\n",
       "      <td>58.0</td>\n",
       "      <td>Blue Horizon</td>\n",
       "      <td>True</td>\n",
       "      <td>43.0</td>\n",
       "      <td>3576.0</td>\n",
       "      <td>Reached wrong destination</td>\n",
       "      <td>A</td>\n",
       "      <td>0</td>\n",
       "      <td>S</td>\n",
       "    </tr>\n",
       "    <tr>\n",
       "      <th>3</th>\n",
       "      <td>Europa</td>\n",
       "      <td>False</td>\n",
       "      <td>A/0/S</td>\n",
       "      <td>TRAPPIST-1e</td>\n",
       "      <td>33.0</td>\n",
       "      <td>Tulsa Inc</td>\n",
       "      <td>False</td>\n",
       "      <td>0.0</td>\n",
       "      <td>1283.0</td>\n",
       "      <td>Succesfully reached Destination</td>\n",
       "      <td>A</td>\n",
       "      <td>0</td>\n",
       "      <td>S</td>\n",
       "    </tr>\n",
       "    <tr>\n",
       "      <th>4</th>\n",
       "      <td>Earth</td>\n",
       "      <td>False</td>\n",
       "      <td>F/1/S</td>\n",
       "      <td>TRAPPIST-1e</td>\n",
       "      <td>16.0</td>\n",
       "      <td>Blue Horizon</td>\n",
       "      <td>False</td>\n",
       "      <td>303.0</td>\n",
       "      <td>70.0</td>\n",
       "      <td>Succesfully reached Destination</td>\n",
       "      <td>F</td>\n",
       "      <td>1</td>\n",
       "      <td>S</td>\n",
       "    </tr>\n",
       "  </tbody>\n",
       "</table>\n",
       "</div>"
      ],
      "text/plain": [
       "  HomePlanet CryoSleep  Cabin  Destination   Age Travel company    VIP  \\\n",
       "0     Europa     False  B/0/P  TRAPPIST-1e  39.0      Tulsa Inc  False   \n",
       "1      Earth     False  F/0/S  TRAPPIST-1e  24.0   Blue Horizon  False   \n",
       "2     Europa     False  A/0/S  TRAPPIST-1e  58.0   Blue Horizon   True   \n",
       "3     Europa     False  A/0/S  TRAPPIST-1e  33.0      Tulsa Inc  False   \n",
       "4      Earth     False  F/1/S  TRAPPIST-1e  16.0   Blue Horizon  False   \n",
       "\n",
       "   RoomService  FoodCourt                   Travel Outcome Cols Seat_number  \\\n",
       "0          0.0        0.0  Succesfully reached Destination    B           0   \n",
       "1        109.0        9.0  Succesfully reached Destination    F           0   \n",
       "2         43.0     3576.0        Reached wrong destination    A           0   \n",
       "3          0.0     1283.0  Succesfully reached Destination    A           0   \n",
       "4        303.0       70.0  Succesfully reached Destination    F           1   \n",
       "\n",
       "  P_S  \n",
       "0   P  \n",
       "1   S  \n",
       "2   S  \n",
       "3   S  \n",
       "4   S  "
      ]
     },
     "execution_count": 13,
     "metadata": {},
     "output_type": "execute_result"
    }
   ],
   "source": [
    "df.head()"
   ]
  },
  {
   "cell_type": "code",
   "execution_count": 14,
   "metadata": {
    "scrolled": false
   },
   "outputs": [
    {
     "data": {
      "image/png": "[encoded data removed]",
      "text/plain": [
       "<Figure size 720x576 with 1 Axes>"
      ]
     },
     "metadata": {
      "needs_background": "light"
     },
     "output_type": "display_data"
    }
   ],
   "source": [
    "unique_plot(df,'Cols','bar')"
   ]
  },
  {
   "cell_type": "markdown",
   "metadata": {},
   "source": [
    "Replacing the null values with the mode of the column"
   ]
  },
  {
   "cell_type": "code",
   "execution_count": 15,
   "metadata": {},
   "outputs": [],
   "source": [
    "def replace_data(df,col_name,method=None,to_replace=None):\n",
    "    if method == 'mean':\n",
    "        value = df[col_name].mean()\n",
    "    elif method == 'mode':\n",
    "        value = df[col_name].mode().loc[0]\n",
    "    if to_replace != None:\n",
    "        df[col_name].replace(to_replace=to_replace,value=value,inplace=True)\n",
    "    else:\n",
    "        df[col_name].fillna(value,inplace=True)"
   ]
  },
  {
   "cell_type": "code",
   "execution_count": 16,
   "metadata": {},
   "outputs": [],
   "source": [
    "replace_data(df,'Cols',to_replace='-1',method='mode')"
   ]
  },
  {
   "cell_type": "code",
   "execution_count": 17,
   "metadata": {},
   "outputs": [
    {
     "data": {
      "image/png": "[encoded data removed]",
      "text/plain": [
       "<Figure size 720x576 with 1 Axes>"
      ]
     },
     "metadata": {
      "needs_background": "light"
     },
     "output_type": "display_data"
    }
   ],
   "source": [
    "unique_plot(df,'Cols','bar')"
   ]
  },
  {
   "cell_type": "code",
   "execution_count": 18,
   "metadata": {},
   "outputs": [
    {
     "data": {
      "image/png": "[encoded data removed]",
      "text/plain": [
       "<Figure size 720x576 with 1 Axes>"
      ]
     },
     "metadata": {
      "needs_background": "light"
     },
     "output_type": "display_data"
    }
   ],
   "source": [
    "unique_plot(df,'P_S','bar')"
   ]
  },
  {
   "cell_type": "markdown",
   "metadata": {},
   "source": [
    "Since both value counts are nearly same...Replacing values of P_S randomly"
   ]
  },
  {
   "cell_type": "code",
   "execution_count": 19,
   "metadata": {},
   "outputs": [],
   "source": [
    "choices = df.P_S.unique().tolist()[:-1]\n",
    "df.loc[df['P_S'] == '-1', 'P_S'] = random.choice(choices)"
   ]
  },
  {
   "cell_type": "code",
   "execution_count": 20,
   "metadata": {},
   "outputs": [
    {
     "data": {
      "image/png": "[encoded data removed]",
      "text/plain": [
       "<Figure size 720x576 with 1 Axes>"
      ]
     },
     "metadata": {
      "needs_background": "light"
     },
     "output_type": "display_data"
    }
   ],
   "source": [
    "unique_plot(df,'P_S','bar')"
   ]
  },
  {
   "cell_type": "code",
   "execution_count": 21,
   "metadata": {},
   "outputs": [
    {
     "name": "stdout",
     "output_type": "stream",
     "text": [
      "<class 'pandas.core.frame.DataFrame'>\n",
      "RangeIndex: 8693 entries, 0 to 8692\n",
      "Data columns (total 13 columns):\n",
      " #   Column          Non-Null Count  Dtype  \n",
      "---  ------          --------------  -----  \n",
      " 0   HomePlanet      8492 non-null   object \n",
      " 1   CryoSleep       8476 non-null   object \n",
      " 2   Cabin           8693 non-null   object \n",
      " 3   Destination     8511 non-null   object \n",
      " 4   Age             8514 non-null   float64\n",
      " 5   Travel company  8693 non-null   object \n",
      " 6   VIP             8490 non-null   object \n",
      " 7   RoomService     8512 non-null   float64\n",
      " 8   FoodCourt       8510 non-null   float64\n",
      " 9   Travel Outcome  8693 non-null   object \n",
      " 10  Cols            8693 non-null   object \n",
      " 11  Seat_number     8693 non-null   object \n",
      " 12  P_S             8693 non-null   object \n",
      "dtypes: float64(3), object(10)\n",
      "memory usage: 883.0+ KB\n"
     ]
    }
   ],
   "source": [
    "df.info()"
   ]
  },
  {
   "cell_type": "code",
   "execution_count": 22,
   "metadata": {},
   "outputs": [],
   "source": [
    "# unique_plot(df,'Seat_number','pie')"
   ]
  },
  {
   "cell_type": "code",
   "execution_count": 23,
   "metadata": {},
   "outputs": [
    {
     "data": {
      "text/plain": [
       "-1      199\n",
       "82       28\n",
       "19       22\n",
       "86       22\n",
       "97       21\n",
       "       ... \n",
       "1549      1\n",
       "1837      1\n",
       "1057      1\n",
       "1651      1\n",
       "1367      1\n",
       "Name: Seat_number, Length: 1818, dtype: int64"
      ]
     },
     "execution_count": 23,
     "metadata": {},
     "output_type": "execute_result"
    }
   ],
   "source": [
    "df.Seat_number.value_counts()\n"
   ]
  },
  {
   "cell_type": "markdown",
   "metadata": {},
   "source": [
    "As the count of missing values is too much as compared to other values..we can drop this column"
   ]
  },
  {
   "cell_type": "code",
   "execution_count": 24,
   "metadata": {},
   "outputs": [],
   "source": [
    "df.drop(['Cabin','Seat_number'],inplace=True,axis=1)"
   ]
  },
  {
   "cell_type": "code",
   "execution_count": 25,
   "metadata": {},
   "outputs": [
    {
     "data": {
      "text/html": [
       "<div>\n",
       "<style scoped>\n",
       "    .dataframe tbody tr th:only-of-type {\n",
       "        vertical-align: middle;\n",
       "    }\n",
       "\n",
       "    .dataframe tbody tr th {\n",
       "        vertical-align: top;\n",
       "    }\n",
       "\n",
       "    .dataframe thead th {\n",
       "        text-align: right;\n",
       "    }\n",
       "</style>\n",
       "<table border=\"1\" class=\"dataframe\">\n",
       "  <thead>\n",
       "    <tr style=\"text-align: right;\">\n",
       "      <th></th>\n",
       "      <th>HomePlanet</th>\n",
       "      <th>CryoSleep</th>\n",
       "      <th>Destination</th>\n",
       "      <th>Age</th>\n",
       "      <th>Travel company</th>\n",
       "      <th>VIP</th>\n",
       "      <th>RoomService</th>\n",
       "      <th>FoodCourt</th>\n",
       "      <th>Travel Outcome</th>\n",
       "      <th>Cols</th>\n",
       "      <th>P_S</th>\n",
       "    </tr>\n",
       "  </thead>\n",
       "  <tbody>\n",
       "    <tr>\n",
       "      <th>0</th>\n",
       "      <td>Europa</td>\n",
       "      <td>False</td>\n",
       "      <td>TRAPPIST-1e</td>\n",
       "      <td>39.0</td>\n",
       "      <td>Tulsa Inc</td>\n",
       "      <td>False</td>\n",
       "      <td>0.0</td>\n",
       "      <td>0.0</td>\n",
       "      <td>Succesfully reached Destination</td>\n",
       "      <td>B</td>\n",
       "      <td>P</td>\n",
       "    </tr>\n",
       "    <tr>\n",
       "      <th>1</th>\n",
       "      <td>Earth</td>\n",
       "      <td>False</td>\n",
       "      <td>TRAPPIST-1e</td>\n",
       "      <td>24.0</td>\n",
       "      <td>Blue Horizon</td>\n",
       "      <td>False</td>\n",
       "      <td>109.0</td>\n",
       "      <td>9.0</td>\n",
       "      <td>Succesfully reached Destination</td>\n",
       "      <td>F</td>\n",
       "      <td>S</td>\n",
       "    </tr>\n",
       "    <tr>\n",
       "      <th>2</th>\n",
       "      <td>Europa</td>\n",
       "      <td>False</td>\n",
       "      <td>TRAPPIST-1e</td>\n",
       "      <td>58.0</td>\n",
       "      <td>Blue Horizon</td>\n",
       "      <td>True</td>\n",
       "      <td>43.0</td>\n",
       "      <td>3576.0</td>\n",
       "      <td>Reached wrong destination</td>\n",
       "      <td>A</td>\n",
       "      <td>S</td>\n",
       "    </tr>\n",
       "    <tr>\n",
       "      <th>3</th>\n",
       "      <td>Europa</td>\n",
       "      <td>False</td>\n",
       "      <td>TRAPPIST-1e</td>\n",
       "      <td>33.0</td>\n",
       "      <td>Tulsa Inc</td>\n",
       "      <td>False</td>\n",
       "      <td>0.0</td>\n",
       "      <td>1283.0</td>\n",
       "      <td>Succesfully reached Destination</td>\n",
       "      <td>A</td>\n",
       "      <td>S</td>\n",
       "    </tr>\n",
       "    <tr>\n",
       "      <th>4</th>\n",
       "      <td>Earth</td>\n",
       "      <td>False</td>\n",
       "      <td>TRAPPIST-1e</td>\n",
       "      <td>16.0</td>\n",
       "      <td>Blue Horizon</td>\n",
       "      <td>False</td>\n",
       "      <td>303.0</td>\n",
       "      <td>70.0</td>\n",
       "      <td>Succesfully reached Destination</td>\n",
       "      <td>F</td>\n",
       "      <td>S</td>\n",
       "    </tr>\n",
       "  </tbody>\n",
       "</table>\n",
       "</div>"
      ],
      "text/plain": [
       "  HomePlanet CryoSleep  Destination   Age Travel company    VIP  RoomService  \\\n",
       "0     Europa     False  TRAPPIST-1e  39.0      Tulsa Inc  False          0.0   \n",
       "1      Earth     False  TRAPPIST-1e  24.0   Blue Horizon  False        109.0   \n",
       "2     Europa     False  TRAPPIST-1e  58.0   Blue Horizon   True         43.0   \n",
       "3     Europa     False  TRAPPIST-1e  33.0      Tulsa Inc  False          0.0   \n",
       "4      Earth     False  TRAPPIST-1e  16.0   Blue Horizon  False        303.0   \n",
       "\n",
       "   FoodCourt                   Travel Outcome Cols P_S  \n",
       "0        0.0  Succesfully reached Destination    B   P  \n",
       "1        9.0  Succesfully reached Destination    F   S  \n",
       "2     3576.0        Reached wrong destination    A   S  \n",
       "3     1283.0  Succesfully reached Destination    A   S  \n",
       "4       70.0  Succesfully reached Destination    F   S  "
      ]
     },
     "execution_count": 25,
     "metadata": {},
     "output_type": "execute_result"
    }
   ],
   "source": [
    "df.head()"
   ]
  },
  {
   "cell_type": "code",
   "execution_count": 26,
   "metadata": {},
   "outputs": [
    {
     "data": {
      "text/plain": [
       "HomePlanet        201\n",
       "CryoSleep         217\n",
       "Destination       182\n",
       "Age               179\n",
       "Travel company      0\n",
       "VIP               203\n",
       "RoomService       181\n",
       "FoodCourt         183\n",
       "Travel Outcome      0\n",
       "Cols                0\n",
       "P_S                 0\n",
       "dtype: int64"
      ]
     },
     "execution_count": 26,
     "metadata": {},
     "output_type": "execute_result"
    }
   ],
   "source": [
    "df.isnull().sum()"
   ]
  },
  {
   "cell_type": "markdown",
   "metadata": {},
   "source": [
    "#### Handling null values in HomePLanet column"
   ]
  },
  {
   "cell_type": "code",
   "execution_count": 27,
   "metadata": {},
   "outputs": [
    {
     "data": {
      "text/plain": [
       "Earth     4602\n",
       "Europa    2131\n",
       "Mars      1759\n",
       "Name: HomePlanet, dtype: int64"
      ]
     },
     "execution_count": 27,
     "metadata": {},
     "output_type": "execute_result"
    }
   ],
   "source": [
    "df.HomePlanet.value_counts()"
   ]
  },
  {
   "cell_type": "markdown",
   "metadata": {},
   "source": [
    "Replacing null values in HomePlanet with mode of the column"
   ]
  },
  {
   "cell_type": "code",
   "execution_count": 28,
   "metadata": {},
   "outputs": [],
   "source": [
    "replace_data(df,'HomePlanet',method='mode')"
   ]
  },
  {
   "cell_type": "code",
   "execution_count": 29,
   "metadata": {},
   "outputs": [
    {
     "data": {
      "text/plain": [
       "HomePlanet          0\n",
       "CryoSleep         217\n",
       "Destination       182\n",
       "Age               179\n",
       "Travel company      0\n",
       "VIP               203\n",
       "RoomService       181\n",
       "FoodCourt         183\n",
       "Travel Outcome      0\n",
       "Cols                0\n",
       "P_S                 0\n",
       "dtype: int64"
      ]
     },
     "execution_count": 29,
     "metadata": {},
     "output_type": "execute_result"
    }
   ],
   "source": [
    "df.isnull().sum()"
   ]
  },
  {
   "cell_type": "markdown",
   "metadata": {},
   "source": [
    "#### Handling null values in CryoSleep column"
   ]
  },
  {
   "cell_type": "code",
   "execution_count": 30,
   "metadata": {},
   "outputs": [
    {
     "data": {
      "image/png": "[encoded data removed]",
      "text/plain": [
       "<Figure size 720x576 with 1 Axes>"
      ]
     },
     "metadata": {},
     "output_type": "display_data"
    }
   ],
   "source": [
    "unique_plot(df,'CryoSleep','pie')"
   ]
  },
  {
   "cell_type": "markdown",
   "metadata": {},
   "source": [
    "Replacing null values in CryoSleep with mode of the column"
   ]
  },
  {
   "cell_type": "code",
   "execution_count": 31,
   "metadata": {},
   "outputs": [],
   "source": [
    "replace_data(df,'CryoSleep',method='mode')"
   ]
  },
  {
   "cell_type": "code",
   "execution_count": 32,
   "metadata": {},
   "outputs": [
    {
     "data": {
      "text/plain": [
       "HomePlanet          0\n",
       "CryoSleep           0\n",
       "Destination       182\n",
       "Age               179\n",
       "Travel company      0\n",
       "VIP               203\n",
       "RoomService       181\n",
       "FoodCourt         183\n",
       "Travel Outcome      0\n",
       "Cols                0\n",
       "P_S                 0\n",
       "dtype: int64"
      ]
     },
     "execution_count": 32,
     "metadata": {},
     "output_type": "execute_result"
    }
   ],
   "source": [
    "df.isnull().sum()"
   ]
  },
  {
   "cell_type": "markdown",
   "metadata": {},
   "source": [
    "#### Handling null values in Destination column"
   ]
  },
  {
   "cell_type": "code",
   "execution_count": 33,
   "metadata": {},
   "outputs": [
    {
     "data": {
      "image/png": "[encoded data removed]",
      "text/plain": [
       "<Figure size 720x576 with 1 Axes>"
      ]
     },
     "metadata": {
      "needs_background": "light"
     },
     "output_type": "display_data"
    }
   ],
   "source": [
    "unique_plot(df,'Destination','bar')"
   ]
  },
  {
   "cell_type": "code",
   "execution_count": 34,
   "metadata": {},
   "outputs": [],
   "source": [
    "replace_data(df,'Destination',method='mode')"
   ]
  },
  {
   "cell_type": "code",
   "execution_count": 35,
   "metadata": {},
   "outputs": [
    {
     "data": {
      "text/plain": [
       "HomePlanet          0\n",
       "CryoSleep           0\n",
       "Destination         0\n",
       "Age               179\n",
       "Travel company      0\n",
       "VIP               203\n",
       "RoomService       181\n",
       "FoodCourt         183\n",
       "Travel Outcome      0\n",
       "Cols                0\n",
       "P_S                 0\n",
       "dtype: int64"
      ]
     },
     "execution_count": 35,
     "metadata": {},
     "output_type": "execute_result"
    }
   ],
   "source": [
    "df.isna().sum()"
   ]
  },
  {
   "cell_type": "markdown",
   "metadata": {},
   "source": [
    "#### Handling null values in Destination column"
   ]
  },
  {
   "cell_type": "code",
   "execution_count": 36,
   "metadata": {},
   "outputs": [
    {
     "data": {
      "image/png": "[encoded data removed]",
      "text/plain": [
       "<Figure size 720x576 with 1 Axes>"
      ]
     },
     "metadata": {
      "needs_background": "light"
     },
     "output_type": "display_data"
    }
   ],
   "source": [
    "unique_plot(df,'Destination','bar')"
   ]
  },
  {
   "cell_type": "code",
   "execution_count": 37,
   "metadata": {},
   "outputs": [],
   "source": [
    "replace_data(df,'Destination',method='mode')"
   ]
  },
  {
   "cell_type": "code",
   "execution_count": 38,
   "metadata": {},
   "outputs": [
    {
     "data": {
      "text/plain": [
       "HomePlanet          0\n",
       "CryoSleep           0\n",
       "Destination         0\n",
       "Age               179\n",
       "Travel company      0\n",
       "VIP               203\n",
       "RoomService       181\n",
       "FoodCourt         183\n",
       "Travel Outcome      0\n",
       "Cols                0\n",
       "P_S                 0\n",
       "dtype: int64"
      ]
     },
     "execution_count": 38,
     "metadata": {},
     "output_type": "execute_result"
    }
   ],
   "source": [
    "df.isna().sum()"
   ]
  },
  {
   "cell_type": "markdown",
   "metadata": {},
   "source": [
    "#### Handling null values in Age column"
   ]
  },
  {
   "cell_type": "code",
   "execution_count": 39,
   "metadata": {
    "scrolled": true
   },
   "outputs": [
    {
     "data": {
      "image/png": "[encoded data removed]",
      "text/plain": [
       "<Figure size 720x576 with 1 Axes>"
      ]
     },
     "metadata": {},
     "output_type": "display_data"
    }
   ],
   "source": [
    "unique_plot(df,'Age','pie')"
   ]
  },
  {
   "cell_type": "code",
   "execution_count": 40,
   "metadata": {},
   "outputs": [],
   "source": [
    "replace_data(df,'Age',method='mean')"
   ]
  },
  {
   "cell_type": "code",
   "execution_count": 41,
   "metadata": {},
   "outputs": [
    {
     "data": {
      "text/plain": [
       "HomePlanet          0\n",
       "CryoSleep           0\n",
       "Destination         0\n",
       "Age                 0\n",
       "Travel company      0\n",
       "VIP               203\n",
       "RoomService       181\n",
       "FoodCourt         183\n",
       "Travel Outcome      0\n",
       "Cols                0\n",
       "P_S                 0\n",
       "dtype: int64"
      ]
     },
     "execution_count": 41,
     "metadata": {},
     "output_type": "execute_result"
    }
   ],
   "source": [
    "df.isna().sum()"
   ]
  },
  {
   "cell_type": "markdown",
   "metadata": {},
   "source": [
    "#### Handling null values in Destination column"
   ]
  },
  {
   "cell_type": "code",
   "execution_count": 42,
   "metadata": {},
   "outputs": [
    {
     "data": {
      "image/png": "[encoded data removed]",
      "text/plain": [
       "<Figure size 720x576 with 1 Axes>"
      ]
     },
     "metadata": {
      "needs_background": "light"
     },
     "output_type": "display_data"
    }
   ],
   "source": [
    "unique_plot(df,'Destination','bar')"
   ]
  },
  {
   "cell_type": "code",
   "execution_count": 43,
   "metadata": {},
   "outputs": [],
   "source": [
    "replace_data(df,'Destination',method='mode')"
   ]
  },
  {
   "cell_type": "code",
   "execution_count": 44,
   "metadata": {},
   "outputs": [
    {
     "data": {
      "text/plain": [
       "HomePlanet          0\n",
       "CryoSleep           0\n",
       "Destination         0\n",
       "Age                 0\n",
       "Travel company      0\n",
       "VIP               203\n",
       "RoomService       181\n",
       "FoodCourt         183\n",
       "Travel Outcome      0\n",
       "Cols                0\n",
       "P_S                 0\n",
       "dtype: int64"
      ]
     },
     "execution_count": 44,
     "metadata": {},
     "output_type": "execute_result"
    }
   ],
   "source": [
    "df.isna().sum()"
   ]
  },
  {
   "cell_type": "markdown",
   "metadata": {},
   "source": [
    "#### Handling null values in VIP column"
   ]
  },
  {
   "cell_type": "code",
   "execution_count": 45,
   "metadata": {},
   "outputs": [
    {
     "data": {
      "image/png": "[encoded data removed]",
      "text/plain": [
       "<Figure size 720x576 with 1 Axes>"
      ]
     },
     "metadata": {},
     "output_type": "display_data"
    }
   ],
   "source": [
    "unique_plot(df,'VIP','pie')"
   ]
  },
  {
   "cell_type": "code",
   "execution_count": 46,
   "metadata": {},
   "outputs": [],
   "source": [
    "replace_data(df,'VIP',method='mode')"
   ]
  },
  {
   "cell_type": "code",
   "execution_count": 47,
   "metadata": {},
   "outputs": [
    {
     "data": {
      "text/plain": [
       "HomePlanet          0\n",
       "CryoSleep           0\n",
       "Destination         0\n",
       "Age                 0\n",
       "Travel company      0\n",
       "VIP                 0\n",
       "RoomService       181\n",
       "FoodCourt         183\n",
       "Travel Outcome      0\n",
       "Cols                0\n",
       "P_S                 0\n",
       "dtype: int64"
      ]
     },
     "execution_count": 47,
     "metadata": {},
     "output_type": "execute_result"
    }
   ],
   "source": [
    "df.isna().sum()"
   ]
  },
  {
   "cell_type": "markdown",
   "metadata": {},
   "source": [
    "#### Handling null values in RoomService column"
   ]
  },
  {
   "cell_type": "code",
   "execution_count": 48,
   "metadata": {},
   "outputs": [],
   "source": [
    "replace_data(df,'RoomService',method='mean')"
   ]
  },
  {
   "cell_type": "code",
   "execution_count": 49,
   "metadata": {},
   "outputs": [
    {
     "data": {
      "text/plain": [
       "HomePlanet          0\n",
       "CryoSleep           0\n",
       "Destination         0\n",
       "Age                 0\n",
       "Travel company      0\n",
       "VIP                 0\n",
       "RoomService         0\n",
       "FoodCourt         183\n",
       "Travel Outcome      0\n",
       "Cols                0\n",
       "P_S                 0\n",
       "dtype: int64"
      ]
     },
     "execution_count": 49,
     "metadata": {},
     "output_type": "execute_result"
    }
   ],
   "source": [
    "df.isna().sum()"
   ]
  },
  {
   "cell_type": "markdown",
   "metadata": {},
   "source": [
    "#### Handling null values in FoodCourt column"
   ]
  },
  {
   "cell_type": "code",
   "execution_count": 50,
   "metadata": {},
   "outputs": [],
   "source": [
    "replace_data(df,'FoodCourt',method='mean')"
   ]
  },
  {
   "cell_type": "code",
   "execution_count": 51,
   "metadata": {},
   "outputs": [
    {
     "data": {
      "text/plain": [
       "HomePlanet        0\n",
       "CryoSleep         0\n",
       "Destination       0\n",
       "Age               0\n",
       "Travel company    0\n",
       "VIP               0\n",
       "RoomService       0\n",
       "FoodCourt         0\n",
       "Travel Outcome    0\n",
       "Cols              0\n",
       "P_S               0\n",
       "dtype: int64"
      ]
     },
     "execution_count": 51,
     "metadata": {},
     "output_type": "execute_result"
    }
   ],
   "source": [
    "df.isna().sum()"
   ]
  },
  {
   "cell_type": "markdown",
   "metadata": {},
   "source": [
    "#### \"Reached wrong destination\" is as good as \"Failed to reach\" .. thus replace it with \"Failed to reach\""
   ]
  },
  {
   "cell_type": "code",
   "execution_count": 52,
   "metadata": {},
   "outputs": [
    {
     "data": {
      "text/plain": [
       "array(['Succesfully reached Destination', 'Failed to reach'], dtype=object)"
      ]
     },
     "execution_count": 52,
     "metadata": {},
     "output_type": "execute_result"
    }
   ],
   "source": [
    "df['Travel Outcome'].replace(to_replace='Reached wrong destination',value='Failed to reach',inplace=True)\n",
    "df['Travel Outcome'].unique()"
   ]
  },
  {
   "cell_type": "markdown",
   "metadata": {},
   "source": [
    "## _Data Preprocessing - Handling categorical variables_ "
   ]
  },
  {
   "cell_type": "code",
   "execution_count": 53,
   "metadata": {},
   "outputs": [
    {
     "data": {
      "text/html": [
       "<div>\n",
       "<style scoped>\n",
       "    .dataframe tbody tr th:only-of-type {\n",
       "        vertical-align: middle;\n",
       "    }\n",
       "\n",
       "    .dataframe tbody tr th {\n",
       "        vertical-align: top;\n",
       "    }\n",
       "\n",
       "    .dataframe thead th {\n",
       "        text-align: right;\n",
       "    }\n",
       "</style>\n",
       "<table border=\"1\" class=\"dataframe\">\n",
       "  <thead>\n",
       "    <tr style=\"text-align: right;\">\n",
       "      <th></th>\n",
       "      <th>HomePlanet</th>\n",
       "      <th>CryoSleep</th>\n",
       "      <th>Destination</th>\n",
       "      <th>Age</th>\n",
       "      <th>Travel company</th>\n",
       "      <th>VIP</th>\n",
       "      <th>RoomService</th>\n",
       "      <th>FoodCourt</th>\n",
       "      <th>Travel Outcome</th>\n",
       "      <th>Cols</th>\n",
       "      <th>P_S</th>\n",
       "    </tr>\n",
       "  </thead>\n",
       "  <tbody>\n",
       "    <tr>\n",
       "      <th>0</th>\n",
       "      <td>Europa</td>\n",
       "      <td>False</td>\n",
       "      <td>TRAPPIST-1e</td>\n",
       "      <td>39.0</td>\n",
       "      <td>Tulsa Inc</td>\n",
       "      <td>False</td>\n",
       "      <td>0.0</td>\n",
       "      <td>0.0</td>\n",
       "      <td>Succesfully reached Destination</td>\n",
       "      <td>B</td>\n",
       "      <td>P</td>\n",
       "    </tr>\n",
       "    <tr>\n",
       "      <th>1</th>\n",
       "      <td>Earth</td>\n",
       "      <td>False</td>\n",
       "      <td>TRAPPIST-1e</td>\n",
       "      <td>24.0</td>\n",
       "      <td>Blue Horizon</td>\n",
       "      <td>False</td>\n",
       "      <td>109.0</td>\n",
       "      <td>9.0</td>\n",
       "      <td>Succesfully reached Destination</td>\n",
       "      <td>F</td>\n",
       "      <td>S</td>\n",
       "    </tr>\n",
       "    <tr>\n",
       "      <th>2</th>\n",
       "      <td>Europa</td>\n",
       "      <td>False</td>\n",
       "      <td>TRAPPIST-1e</td>\n",
       "      <td>58.0</td>\n",
       "      <td>Blue Horizon</td>\n",
       "      <td>True</td>\n",
       "      <td>43.0</td>\n",
       "      <td>3576.0</td>\n",
       "      <td>Failed to reach</td>\n",
       "      <td>A</td>\n",
       "      <td>S</td>\n",
       "    </tr>\n",
       "    <tr>\n",
       "      <th>3</th>\n",
       "      <td>Europa</td>\n",
       "      <td>False</td>\n",
       "      <td>TRAPPIST-1e</td>\n",
       "      <td>33.0</td>\n",
       "      <td>Tulsa Inc</td>\n",
       "      <td>False</td>\n",
       "      <td>0.0</td>\n",
       "      <td>1283.0</td>\n",
       "      <td>Succesfully reached Destination</td>\n",
       "      <td>A</td>\n",
       "      <td>S</td>\n",
       "    </tr>\n",
       "    <tr>\n",
       "      <th>4</th>\n",
       "      <td>Earth</td>\n",
       "      <td>False</td>\n",
       "      <td>TRAPPIST-1e</td>\n",
       "      <td>16.0</td>\n",
       "      <td>Blue Horizon</td>\n",
       "      <td>False</td>\n",
       "      <td>303.0</td>\n",
       "      <td>70.0</td>\n",
       "      <td>Succesfully reached Destination</td>\n",
       "      <td>F</td>\n",
       "      <td>S</td>\n",
       "    </tr>\n",
       "    <tr>\n",
       "      <th>...</th>\n",
       "      <td>...</td>\n",
       "      <td>...</td>\n",
       "      <td>...</td>\n",
       "      <td>...</td>\n",
       "      <td>...</td>\n",
       "      <td>...</td>\n",
       "      <td>...</td>\n",
       "      <td>...</td>\n",
       "      <td>...</td>\n",
       "      <td>...</td>\n",
       "      <td>...</td>\n",
       "    </tr>\n",
       "    <tr>\n",
       "      <th>8688</th>\n",
       "      <td>Europa</td>\n",
       "      <td>False</td>\n",
       "      <td>55 Cancri e</td>\n",
       "      <td>41.0</td>\n",
       "      <td>Blue Horizon</td>\n",
       "      <td>True</td>\n",
       "      <td>0.0</td>\n",
       "      <td>6819.0</td>\n",
       "      <td>Failed to reach</td>\n",
       "      <td>A</td>\n",
       "      <td>P</td>\n",
       "    </tr>\n",
       "    <tr>\n",
       "      <th>8689</th>\n",
       "      <td>Earth</td>\n",
       "      <td>True</td>\n",
       "      <td>PSO J318.5-22</td>\n",
       "      <td>18.0</td>\n",
       "      <td>Blue Horizon</td>\n",
       "      <td>False</td>\n",
       "      <td>0.0</td>\n",
       "      <td>0.0</td>\n",
       "      <td>Succesfully reached Destination</td>\n",
       "      <td>G</td>\n",
       "      <td>S</td>\n",
       "    </tr>\n",
       "    <tr>\n",
       "      <th>8690</th>\n",
       "      <td>Earth</td>\n",
       "      <td>False</td>\n",
       "      <td>TRAPPIST-1e</td>\n",
       "      <td>26.0</td>\n",
       "      <td>Blue Horizon</td>\n",
       "      <td>False</td>\n",
       "      <td>0.0</td>\n",
       "      <td>0.0</td>\n",
       "      <td>Failed to reach</td>\n",
       "      <td>G</td>\n",
       "      <td>S</td>\n",
       "    </tr>\n",
       "    <tr>\n",
       "      <th>8691</th>\n",
       "      <td>Europa</td>\n",
       "      <td>False</td>\n",
       "      <td>55 Cancri e</td>\n",
       "      <td>32.0</td>\n",
       "      <td>Blue Horizon</td>\n",
       "      <td>False</td>\n",
       "      <td>0.0</td>\n",
       "      <td>1049.0</td>\n",
       "      <td>Failed to reach</td>\n",
       "      <td>E</td>\n",
       "      <td>S</td>\n",
       "    </tr>\n",
       "    <tr>\n",
       "      <th>8692</th>\n",
       "      <td>Europa</td>\n",
       "      <td>False</td>\n",
       "      <td>TRAPPIST-1e</td>\n",
       "      <td>44.0</td>\n",
       "      <td>Tulsa Inc</td>\n",
       "      <td>False</td>\n",
       "      <td>126.0</td>\n",
       "      <td>4688.0</td>\n",
       "      <td>Succesfully reached Destination</td>\n",
       "      <td>E</td>\n",
       "      <td>S</td>\n",
       "    </tr>\n",
       "  </tbody>\n",
       "</table>\n",
       "<p>8693 rows × 11 columns</p>\n",
       "</div>"
      ],
      "text/plain": [
       "     HomePlanet  CryoSleep    Destination   Age Travel company    VIP  \\\n",
       "0        Europa      False    TRAPPIST-1e  39.0      Tulsa Inc  False   \n",
       "1         Earth      False    TRAPPIST-1e  24.0   Blue Horizon  False   \n",
       "2        Europa      False    TRAPPIST-1e  58.0   Blue Horizon   True   \n",
       "3        Europa      False    TRAPPIST-1e  33.0      Tulsa Inc  False   \n",
       "4         Earth      False    TRAPPIST-1e  16.0   Blue Horizon  False   \n",
       "...         ...        ...            ...   ...            ...    ...   \n",
       "8688     Europa      False    55 Cancri e  41.0   Blue Horizon   True   \n",
       "8689      Earth       True  PSO J318.5-22  18.0   Blue Horizon  False   \n",
       "8690      Earth      False    TRAPPIST-1e  26.0   Blue Horizon  False   \n",
       "8691     Europa      False    55 Cancri e  32.0   Blue Horizon  False   \n",
       "8692     Europa      False    TRAPPIST-1e  44.0      Tulsa Inc  False   \n",
       "\n",
       "      RoomService  FoodCourt                   Travel Outcome Cols P_S  \n",
       "0             0.0        0.0  Succesfully reached Destination    B   P  \n",
       "1           109.0        9.0  Succesfully reached Destination    F   S  \n",
       "2            43.0     3576.0                  Failed to reach    A   S  \n",
       "3             0.0     1283.0  Succesfully reached Destination    A   S  \n",
       "4           303.0       70.0  Succesfully reached Destination    F   S  \n",
       "...           ...        ...                              ...  ...  ..  \n",
       "8688          0.0     6819.0                  Failed to reach    A   P  \n",
       "8689          0.0        0.0  Succesfully reached Destination    G   S  \n",
       "8690          0.0        0.0                  Failed to reach    G   S  \n",
       "8691          0.0     1049.0                  Failed to reach    E   S  \n",
       "8692        126.0     4688.0  Succesfully reached Destination    E   S  \n",
       "\n",
       "[8693 rows x 11 columns]"
      ]
     },
     "execution_count": 53,
     "metadata": {},
     "output_type": "execute_result"
    }
   ],
   "source": [
    "df"
   ]
  },
  {
   "cell_type": "code",
   "execution_count": 54,
   "metadata": {},
   "outputs": [],
   "source": [
    "def map_encodings(df,col_name):\n",
    "    vals = df[col_name].unique().tolist()\n",
    "    maps = dict()\n",
    "    for i,j in enumerate(vals):\n",
    "        maps[j] = i\n",
    "    print(maps)\n",
    "    df[col_name] = df[col_name].map(maps)"
   ]
  },
  {
   "cell_type": "code",
   "execution_count": 55,
   "metadata": {},
   "outputs": [
    {
     "name": "stdout",
     "output_type": "stream",
     "text": [
      "{'Europa': 0, 'Earth': 1, 'Mars': 2}\n"
     ]
    }
   ],
   "source": [
    "map_encodings(df,'HomePlanet')"
   ]
  },
  {
   "cell_type": "code",
   "execution_count": 56,
   "metadata": {},
   "outputs": [
    {
     "name": "stdout",
     "output_type": "stream",
     "text": [
      "{False: 0, True: 1}\n"
     ]
    }
   ],
   "source": [
    "map_encodings(df,'CryoSleep')"
   ]
  },
  {
   "cell_type": "code",
   "execution_count": 57,
   "metadata": {},
   "outputs": [
    {
     "name": "stdout",
     "output_type": "stream",
     "text": [
      "{'TRAPPIST-1e': 0, 'PSO J318.5-22': 1, '55 Cancri e': 2}\n"
     ]
    }
   ],
   "source": [
    "map_encodings(df,'Destination')"
   ]
  },
  {
   "cell_type": "code",
   "execution_count": 58,
   "metadata": {},
   "outputs": [
    {
     "name": "stdout",
     "output_type": "stream",
     "text": [
      "{'Tulsa Inc': 0, 'Blue Horizon': 1}\n"
     ]
    }
   ],
   "source": [
    "map_encodings(df,'Travel company')"
   ]
  },
  {
   "cell_type": "code",
   "execution_count": 59,
   "metadata": {},
   "outputs": [
    {
     "name": "stdout",
     "output_type": "stream",
     "text": [
      "{False: 0, True: 1}\n"
     ]
    }
   ],
   "source": [
    "map_encodings(df,'VIP')"
   ]
  },
  {
   "cell_type": "code",
   "execution_count": 60,
   "metadata": {},
   "outputs": [
    {
     "name": "stdout",
     "output_type": "stream",
     "text": [
      "{'Succesfully reached Destination': 0, 'Failed to reach': 1}\n"
     ]
    }
   ],
   "source": [
    "map_encodings(df,'Travel Outcome')"
   ]
  },
  {
   "cell_type": "code",
   "execution_count": 61,
   "metadata": {},
   "outputs": [
    {
     "name": "stdout",
     "output_type": "stream",
     "text": [
      "{'B': 0, 'F': 1, 'A': 2, 'G': 3, 'E': 4, 'D': 5, 'C': 6, 'T': 7}\n"
     ]
    }
   ],
   "source": [
    "map_encodings(df,'Cols')"
   ]
  },
  {
   "cell_type": "code",
   "execution_count": 62,
   "metadata": {},
   "outputs": [
    {
     "name": "stdout",
     "output_type": "stream",
     "text": [
      "{'P': 0, 'S': 1}\n"
     ]
    }
   ],
   "source": [
    "map_encodings(df,'P_S')"
   ]
  },
  {
   "cell_type": "code",
   "execution_count": 63,
   "metadata": {},
   "outputs": [
    {
     "data": {
      "text/html": [
       "<div>\n",
       "<style scoped>\n",
       "    .dataframe tbody tr th:only-of-type {\n",
       "        vertical-align: middle;\n",
       "    }\n",
       "\n",
       "    .dataframe tbody tr th {\n",
       "        vertical-align: top;\n",
       "    }\n",
       "\n",
       "    .dataframe thead th {\n",
       "        text-align: right;\n",
       "    }\n",
       "</style>\n",
       "<table border=\"1\" class=\"dataframe\">\n",
       "  <thead>\n",
       "    <tr style=\"text-align: right;\">\n",
       "      <th></th>\n",
       "      <th>HomePlanet</th>\n",
       "      <th>CryoSleep</th>\n",
       "      <th>Destination</th>\n",
       "      <th>Age</th>\n",
       "      <th>Travel company</th>\n",
       "      <th>VIP</th>\n",
       "      <th>RoomService</th>\n",
       "      <th>FoodCourt</th>\n",
       "      <th>Travel Outcome</th>\n",
       "      <th>Cols</th>\n",
       "      <th>P_S</th>\n",
       "    </tr>\n",
       "  </thead>\n",
       "  <tbody>\n",
       "    <tr>\n",
       "      <th>0</th>\n",
       "      <td>0</td>\n",
       "      <td>0</td>\n",
       "      <td>0</td>\n",
       "      <td>39.0</td>\n",
       "      <td>0</td>\n",
       "      <td>0</td>\n",
       "      <td>0.0</td>\n",
       "      <td>0.0</td>\n",
       "      <td>0</td>\n",
       "      <td>0</td>\n",
       "      <td>0</td>\n",
       "    </tr>\n",
       "    <tr>\n",
       "      <th>1</th>\n",
       "      <td>1</td>\n",
       "      <td>0</td>\n",
       "      <td>0</td>\n",
       "      <td>24.0</td>\n",
       "      <td>1</td>\n",
       "      <td>0</td>\n",
       "      <td>109.0</td>\n",
       "      <td>9.0</td>\n",
       "      <td>0</td>\n",
       "      <td>1</td>\n",
       "      <td>1</td>\n",
       "    </tr>\n",
       "    <tr>\n",
       "      <th>2</th>\n",
       "      <td>0</td>\n",
       "      <td>0</td>\n",
       "      <td>0</td>\n",
       "      <td>58.0</td>\n",
       "      <td>1</td>\n",
       "      <td>1</td>\n",
       "      <td>43.0</td>\n",
       "      <td>3576.0</td>\n",
       "      <td>1</td>\n",
       "      <td>2</td>\n",
       "      <td>1</td>\n",
       "    </tr>\n",
       "    <tr>\n",
       "      <th>3</th>\n",
       "      <td>0</td>\n",
       "      <td>0</td>\n",
       "      <td>0</td>\n",
       "      <td>33.0</td>\n",
       "      <td>0</td>\n",
       "      <td>0</td>\n",
       "      <td>0.0</td>\n",
       "      <td>1283.0</td>\n",
       "      <td>0</td>\n",
       "      <td>2</td>\n",
       "      <td>1</td>\n",
       "    </tr>\n",
       "    <tr>\n",
       "      <th>4</th>\n",
       "      <td>1</td>\n",
       "      <td>0</td>\n",
       "      <td>0</td>\n",
       "      <td>16.0</td>\n",
       "      <td>1</td>\n",
       "      <td>0</td>\n",
       "      <td>303.0</td>\n",
       "      <td>70.0</td>\n",
       "      <td>0</td>\n",
       "      <td>1</td>\n",
       "      <td>1</td>\n",
       "    </tr>\n",
       "    <tr>\n",
       "      <th>5</th>\n",
       "      <td>1</td>\n",
       "      <td>0</td>\n",
       "      <td>1</td>\n",
       "      <td>44.0</td>\n",
       "      <td>0</td>\n",
       "      <td>0</td>\n",
       "      <td>0.0</td>\n",
       "      <td>483.0</td>\n",
       "      <td>0</td>\n",
       "      <td>1</td>\n",
       "      <td>0</td>\n",
       "    </tr>\n",
       "    <tr>\n",
       "      <th>6</th>\n",
       "      <td>1</td>\n",
       "      <td>0</td>\n",
       "      <td>0</td>\n",
       "      <td>26.0</td>\n",
       "      <td>0</td>\n",
       "      <td>0</td>\n",
       "      <td>42.0</td>\n",
       "      <td>1539.0</td>\n",
       "      <td>1</td>\n",
       "      <td>1</td>\n",
       "      <td>1</td>\n",
       "    </tr>\n",
       "    <tr>\n",
       "      <th>7</th>\n",
       "      <td>1</td>\n",
       "      <td>1</td>\n",
       "      <td>0</td>\n",
       "      <td>28.0</td>\n",
       "      <td>0</td>\n",
       "      <td>0</td>\n",
       "      <td>0.0</td>\n",
       "      <td>0.0</td>\n",
       "      <td>1</td>\n",
       "      <td>3</td>\n",
       "      <td>1</td>\n",
       "    </tr>\n",
       "    <tr>\n",
       "      <th>8</th>\n",
       "      <td>1</td>\n",
       "      <td>0</td>\n",
       "      <td>0</td>\n",
       "      <td>35.0</td>\n",
       "      <td>1</td>\n",
       "      <td>0</td>\n",
       "      <td>0.0</td>\n",
       "      <td>785.0</td>\n",
       "      <td>1</td>\n",
       "      <td>1</td>\n",
       "      <td>1</td>\n",
       "    </tr>\n",
       "    <tr>\n",
       "      <th>9</th>\n",
       "      <td>0</td>\n",
       "      <td>1</td>\n",
       "      <td>2</td>\n",
       "      <td>14.0</td>\n",
       "      <td>0</td>\n",
       "      <td>0</td>\n",
       "      <td>0.0</td>\n",
       "      <td>0.0</td>\n",
       "      <td>1</td>\n",
       "      <td>0</td>\n",
       "      <td>0</td>\n",
       "    </tr>\n",
       "  </tbody>\n",
       "</table>\n",
       "</div>"
      ],
      "text/plain": [
       "   HomePlanet  CryoSleep  Destination   Age  Travel company  VIP  RoomService  \\\n",
       "0           0          0            0  39.0               0    0          0.0   \n",
       "1           1          0            0  24.0               1    0        109.0   \n",
       "2           0          0            0  58.0               1    1         43.0   \n",
       "3           0          0            0  33.0               0    0          0.0   \n",
       "4           1          0            0  16.0               1    0        303.0   \n",
       "5           1          0            1  44.0               0    0          0.0   \n",
       "6           1          0            0  26.0               0    0         42.0   \n",
       "7           1          1            0  28.0               0    0          0.0   \n",
       "8           1          0            0  35.0               1    0          0.0   \n",
       "9           0          1            2  14.0               0    0          0.0   \n",
       "\n",
       "   FoodCourt  Travel Outcome  Cols  P_S  \n",
       "0        0.0               0     0    0  \n",
       "1        9.0               0     1    1  \n",
       "2     3576.0               1     2    1  \n",
       "3     1283.0               0     2    1  \n",
       "4       70.0               0     1    1  \n",
       "5      483.0               0     1    0  \n",
       "6     1539.0               1     1    1  \n",
       "7        0.0               1     3    1  \n",
       "8      785.0               1     1    1  \n",
       "9        0.0               1     0    0  "
      ]
     },
     "execution_count": 63,
     "metadata": {},
     "output_type": "execute_result"
    }
   ],
   "source": [
    "df.head(10)"
   ]
  },
  {
   "cell_type": "code",
   "execution_count": 64,
   "metadata": {},
   "outputs": [
    {
     "name": "stdout",
     "output_type": "stream",
     "text": [
      "<class 'pandas.core.frame.DataFrame'>\n",
      "RangeIndex: 8693 entries, 0 to 8692\n",
      "Data columns (total 11 columns):\n",
      " #   Column          Non-Null Count  Dtype  \n",
      "---  ------          --------------  -----  \n",
      " 0   HomePlanet      8693 non-null   int64  \n",
      " 1   CryoSleep       8693 non-null   int64  \n",
      " 2   Destination     8693 non-null   int64  \n",
      " 3   Age             8693 non-null   float64\n",
      " 4   Travel company  8693 non-null   int64  \n",
      " 5   VIP             8693 non-null   int64  \n",
      " 6   RoomService     8693 non-null   float64\n",
      " 7   FoodCourt       8693 non-null   float64\n",
      " 8   Travel Outcome  8693 non-null   int64  \n",
      " 9   Cols            8693 non-null   int64  \n",
      " 10  P_S             8693 non-null   int64  \n",
      "dtypes: float64(3), int64(8)\n",
      "memory usage: 747.2 KB\n"
     ]
    }
   ],
   "source": [
    "df.info()"
   ]
  },
  {
   "cell_type": "code",
   "execution_count": 65,
   "metadata": {},
   "outputs": [],
   "source": [
    "# df.drop(['Age','Cols'],inplace=True,axis=1)"
   ]
  },
  {
   "cell_type": "markdown",
   "metadata": {},
   "source": [
    "## Saving the CSV"
   ]
  },
  {
   "cell_type": "code",
   "execution_count": 66,
   "metadata": {},
   "outputs": [],
   "source": [
    "df.to_csv('preprocessed.csv')"
   ]
  },
  {
   "cell_type": "markdown",
   "metadata": {},
   "source": [
    "## Modelling"
   ]
  },
  {
   "cell_type": "markdown",
   "metadata": {},
   "source": [
    "#### Splitting data in train and test data"
   ]
  },
  {
   "cell_type": "code",
   "execution_count": 67,
   "metadata": {},
   "outputs": [],
   "source": [
    "from sklearn.model_selection import train_test_split"
   ]
  },
  {
   "cell_type": "code",
   "execution_count": 68,
   "metadata": {},
   "outputs": [],
   "source": [
    "y = df['Travel Outcome']\n",
    "X = df.drop(['Travel Outcome'],axis=1)"
   ]
  },
  {
   "cell_type": "code",
   "execution_count": 69,
   "metadata": {},
   "outputs": [
    {
     "data": {
      "text/plain": [
       "((6954, 10), (1739, 10), (6954,), (1739,))"
      ]
     },
     "execution_count": 69,
     "metadata": {},
     "output_type": "execute_result"
    }
   ],
   "source": [
    "X_train, X_test, y_train, y_test = train_test_split(X, y, test_size=0.2, shuffle=True)\n",
    "X_train.shape, X_test.shape, y_train.shape, y_test.shape"
   ]
  },
  {
   "cell_type": "markdown",
   "metadata": {},
   "source": [
    "#### Data Standardization"
   ]
  },
  {
   "cell_type": "code",
   "execution_count": 70,
   "metadata": {},
   "outputs": [],
   "source": [
    "from sklearn.preprocessing import StandardScaler"
   ]
  },
  {
   "cell_type": "code",
   "execution_count": 71,
   "metadata": {},
   "outputs": [
    {
     "data": {
      "text/plain": [
       "array([[-1.42728927, -0.72757131, -0.61759957, ..., -0.19929973,\n",
       "        -0.27306275,  0.96968561],\n",
       "       [-1.42728927, -0.72757131,  1.83867004, ...,  5.97310964,\n",
       "        -1.41731003, -1.03126208],\n",
       "       [ 0.06974988, -0.72757131, -0.61759957, ..., -0.28755692,\n",
       "        -0.84518639,  0.96968561],\n",
       "       ...,\n",
       "       [ 1.56678903, -0.72757131, -0.61759957, ..., -0.28755692,\n",
       "        -0.84518639, -1.03126208],\n",
       "       [-1.42728927, -0.72757131, -0.61759957, ...,  1.73800769,\n",
       "        -1.41731003,  0.96968561],\n",
       "       [ 0.06974988, -0.72757131, -0.61759957, ..., -0.28755692,\n",
       "        -0.84518639,  0.96968561]])"
      ]
     },
     "execution_count": 71,
     "metadata": {},
     "output_type": "execute_result"
    }
   ],
   "source": [
    "sc = StandardScaler().fit(X_train)\n",
    "X_train_std = sc.transform(X_train)\n",
    "X_test_std = sc.transform(X_test)\n",
    "X_test_std"
   ]
  },
  {
   "cell_type": "markdown",
   "metadata": {},
   "source": [
    "### Logistic regression"
   ]
  },
  {
   "cell_type": "code",
   "execution_count": 72,
   "metadata": {},
   "outputs": [],
   "source": [
    "model = LogisticRegression()"
   ]
  },
  {
   "cell_type": "code",
   "execution_count": 73,
   "metadata": {},
   "outputs": [
    {
     "data": {
      "text/plain": [
       "array([1, 1, 1, ..., 1, 1, 1], dtype=int64)"
      ]
     },
     "execution_count": 73,
     "metadata": {},
     "output_type": "execute_result"
    }
   ],
   "source": [
    "model.fit(X_train_std,y_train)\n",
    "y_test_pred = model.predict(X_test_std)\n",
    "y_train_pred = model.predict(X_train_std)\n",
    "y_train_pred"
   ]
  },
  {
   "cell_type": "code",
   "execution_count": 74,
   "metadata": {},
   "outputs": [
    {
     "name": "stderr",
     "output_type": "stream",
     "text": [
      "D:\\Anaconda\\envs\\tensorflow\\lib\\site-packages\\sklearn\\base.py:443: UserWarning: X has feature names, but LogisticRegression was fitted without feature names\n",
      "  warnings.warn(\n"
     ]
    },
    {
     "data": {
      "text/plain": [
       "0.5434157561817137"
      ]
     },
     "execution_count": 74,
     "metadata": {},
     "output_type": "execute_result"
    }
   ],
   "source": [
    "model.score(X_test,y_test)"
   ]
  },
  {
   "cell_type": "code",
   "execution_count": 75,
   "metadata": {},
   "outputs": [
    {
     "data": {
      "text/plain": [
       "0.6571757262007478"
      ]
     },
     "execution_count": 75,
     "metadata": {},
     "output_type": "execute_result"
    }
   ],
   "source": [
    "accuracy_score(y_train, y_train_pred)"
   ]
  },
  {
   "cell_type": "code",
   "execution_count": 76,
   "metadata": {},
   "outputs": [
    {
     "data": {
      "text/plain": [
       "0.6457734330074756"
      ]
     },
     "execution_count": 76,
     "metadata": {},
     "output_type": "execute_result"
    }
   ],
   "source": [
    "accuracy_score(y_test, y_test_pred)"
   ]
  },
  {
   "cell_type": "code",
   "execution_count": 77,
   "metadata": {},
   "outputs": [
    {
     "name": "stdout",
     "output_type": "stream",
     "text": [
      "              precision    recall  f1-score   support\n",
      "\n",
      "           0       0.00      0.00      0.00       616\n",
      "           1       0.65      1.00      0.78      1123\n",
      "\n",
      "    accuracy                           0.65      1739\n",
      "   macro avg       0.32      0.50      0.39      1739\n",
      "weighted avg       0.42      0.65      0.51      1739\n",
      "\n"
     ]
    },
    {
     "name": "stderr",
     "output_type": "stream",
     "text": [
      "D:\\Anaconda\\envs\\tensorflow\\lib\\site-packages\\sklearn\\metrics\\_classification.py:1318: UndefinedMetricWarning: Precision and F-score are ill-defined and being set to 0.0 in labels with no predicted samples. Use `zero_division` parameter to control this behavior.\n",
      "  _warn_prf(average, modifier, msg_start, len(result))\n",
      "D:\\Anaconda\\envs\\tensorflow\\lib\\site-packages\\sklearn\\metrics\\_classification.py:1318: UndefinedMetricWarning: Precision and F-score are ill-defined and being set to 0.0 in labels with no predicted samples. Use `zero_division` parameter to control this behavior.\n",
      "  _warn_prf(average, modifier, msg_start, len(result))\n",
      "D:\\Anaconda\\envs\\tensorflow\\lib\\site-packages\\sklearn\\metrics\\_classification.py:1318: UndefinedMetricWarning: Precision and F-score are ill-defined and being set to 0.0 in labels with no predicted samples. Use `zero_division` parameter to control this behavior.\n",
      "  _warn_prf(average, modifier, msg_start, len(result))\n"
     ]
    }
   ],
   "source": [
    "print(classification_report(y_test,y_test_pred))"
   ]
  },
  {
   "cell_type": "markdown",
   "metadata": {},
   "source": [
    "### SVM"
   ]
  },
  {
   "cell_type": "code",
   "execution_count": 78,
   "metadata": {},
   "outputs": [],
   "source": [
    "clf = SVC()\n",
    "# clf = SVC(probability=True)"
   ]
  },
  {
   "cell_type": "code",
   "execution_count": 79,
   "metadata": {},
   "outputs": [
    {
     "data": {
      "text/plain": [
       "array([1, 1, 1, ..., 1, 1, 1], dtype=int64)"
      ]
     },
     "execution_count": 79,
     "metadata": {},
     "output_type": "execute_result"
    }
   ],
   "source": [
    "clf.fit(X_train_std,y_train)\n",
    "y_test_pred = clf.predict(X_test_std)\n",
    "y_train_pred = clf.predict(X_train_std)\n",
    "# y_test_pred = clf.predict_proba(X_test_std)\n",
    "# y_train_pred = clf.predict_proba(X_train_std)\n",
    "y_train_pred"
   ]
  },
  {
   "cell_type": "code",
   "execution_count": 80,
   "metadata": {},
   "outputs": [
    {
     "name": "stderr",
     "output_type": "stream",
     "text": [
      "D:\\Anaconda\\envs\\tensorflow\\lib\\site-packages\\sklearn\\base.py:443: UserWarning: X has feature names, but SVC was fitted without feature names\n",
      "  warnings.warn(\n"
     ]
    },
    {
     "data": {
      "text/plain": [
       "0.6457734330074756"
      ]
     },
     "execution_count": 80,
     "metadata": {},
     "output_type": "execute_result"
    }
   ],
   "source": [
    "clf.score(X_test,y_test)"
   ]
  },
  {
   "cell_type": "code",
   "execution_count": 81,
   "metadata": {},
   "outputs": [
    {
     "data": {
      "text/plain": [
       "0.6609145815358067"
      ]
     },
     "execution_count": 81,
     "metadata": {},
     "output_type": "execute_result"
    }
   ],
   "source": [
    "accuracy_score(y_train, y_train_pred)"
   ]
  },
  {
   "cell_type": "code",
   "execution_count": 82,
   "metadata": {
    "scrolled": true
   },
   "outputs": [
    {
     "data": {
      "text/plain": [
       "0.6451983898792409"
      ]
     },
     "execution_count": 82,
     "metadata": {},
     "output_type": "execute_result"
    }
   ],
   "source": [
    "accuracy_score(y_test, y_test_pred)"
   ]
  },
  {
   "cell_type": "code",
   "execution_count": 83,
   "metadata": {},
   "outputs": [
    {
     "name": "stdout",
     "output_type": "stream",
     "text": [
      "              precision    recall  f1-score   support\n",
      "\n",
      "           0       0.33      0.00      0.00       616\n",
      "           1       0.65      1.00      0.78      1123\n",
      "\n",
      "    accuracy                           0.65      1739\n",
      "   macro avg       0.49      0.50      0.39      1739\n",
      "weighted avg       0.54      0.65      0.51      1739\n",
      "\n"
     ]
    }
   ],
   "source": [
    "print(classification_report(y_test,y_test_pred))"
   ]
  },
  {
   "cell_type": "markdown",
   "metadata": {},
   "source": [
    "### Random forest"
   ]
  },
  {
   "cell_type": "code",
   "execution_count": 84,
   "metadata": {},
   "outputs": [],
   "source": [
    "model = RandomForestClassifier()"
   ]
  },
  {
   "cell_type": "code",
   "execution_count": 85,
   "metadata": {},
   "outputs": [
    {
     "data": {
      "text/plain": [
       "array([1, 0, 0, ..., 1, 0, 1], dtype=int64)"
      ]
     },
     "execution_count": 85,
     "metadata": {},
     "output_type": "execute_result"
    }
   ],
   "source": [
    "model.fit(X_train_std,y_train)\n",
    "y_test_pred = model.predict(X_test_std)\n",
    "y_train_pred = model.predict(X_train_std)\n",
    "y_train_pred"
   ]
  },
  {
   "cell_type": "code",
   "execution_count": 86,
   "metadata": {},
   "outputs": [
    {
     "name": "stderr",
     "output_type": "stream",
     "text": [
      "D:\\Anaconda\\envs\\tensorflow\\lib\\site-packages\\sklearn\\base.py:443: UserWarning: X has feature names, but RandomForestClassifier was fitted without feature names\n",
      "  warnings.warn(\n"
     ]
    },
    {
     "data": {
      "text/plain": [
       "0.5480161012075906"
      ]
     },
     "execution_count": 86,
     "metadata": {},
     "output_type": "execute_result"
    }
   ],
   "source": [
    "model.score(X_test,y_test)"
   ]
  },
  {
   "cell_type": "code",
   "execution_count": 87,
   "metadata": {
    "scrolled": true
   },
   "outputs": [
    {
     "data": {
      "text/plain": [
       "0.9354328444060972"
      ]
     },
     "execution_count": 87,
     "metadata": {},
     "output_type": "execute_result"
    }
   ],
   "source": [
    "accuracy_score(y_train, y_train_pred)"
   ]
  },
  {
   "cell_type": "code",
   "execution_count": 88,
   "metadata": {
    "scrolled": true
   },
   "outputs": [
    {
     "data": {
      "text/plain": [
       "0.5830937320299022"
      ]
     },
     "execution_count": 88,
     "metadata": {},
     "output_type": "execute_result"
    }
   ],
   "source": [
    "accuracy_score(y_test, y_test_pred)"
   ]
  },
  {
   "cell_type": "code",
   "execution_count": 89,
   "metadata": {},
   "outputs": [
    {
     "name": "stdout",
     "output_type": "stream",
     "text": [
      "              precision    recall  f1-score   support\n",
      "\n",
      "           0       0.36      0.22      0.27       616\n",
      "           1       0.65      0.78      0.71      1123\n",
      "\n",
      "    accuracy                           0.58      1739\n",
      "   macro avg       0.50      0.50      0.49      1739\n",
      "weighted avg       0.54      0.58      0.55      1739\n",
      "\n"
     ]
    }
   ],
   "source": [
    "print(classification_report(y_test,y_test_pred))"
   ]
  },
  {
   "cell_type": "markdown",
   "metadata": {},
   "source": [
    "### Xg boost"
   ]
  },
  {
   "cell_type": "code",
   "execution_count": 90,
   "metadata": {},
   "outputs": [],
   "source": [
    "model = XGBClassifier(use_label_encoder=False)"
   ]
  },
  {
   "cell_type": "code",
   "execution_count": 91,
   "metadata": {},
   "outputs": [
    {
     "name": "stdout",
     "output_type": "stream",
     "text": [
      "[22:03:08] WARNING: ..\\src\\learner.cc:1115: Starting in XGBoost 1.3.0, the default evaluation metric used with the objective 'binary:logistic' was changed from 'error' to 'logloss'. Explicitly set eval_metric if you'd like to restore the old behavior.\n"
     ]
    },
    {
     "data": {
      "text/plain": [
       "array([1, 1, 1, ..., 1, 1, 1])"
      ]
     },
     "execution_count": 91,
     "metadata": {},
     "output_type": "execute_result"
    }
   ],
   "source": [
    "model.fit(X_train_std,y_train)\n",
    "y_test_pred = model.predict(X_test_std)\n",
    "y_train_pred = model.predict(X_train_std)\n",
    "y_train_pred"
   ]
  },
  {
   "cell_type": "code",
   "execution_count": 92,
   "metadata": {},
   "outputs": [
    {
     "data": {
      "text/plain": [
       "0.43128234617596317"
      ]
     },
     "execution_count": 92,
     "metadata": {},
     "output_type": "execute_result"
    }
   ],
   "source": [
    "model.score(X_test,y_test)"
   ]
  },
  {
   "cell_type": "code",
   "execution_count": 93,
   "metadata": {},
   "outputs": [
    {
     "data": {
      "text/plain": [
       "0.7796951394880645"
      ]
     },
     "execution_count": 93,
     "metadata": {},
     "output_type": "execute_result"
    }
   ],
   "source": [
    "accuracy_score(y_train, y_train_pred)"
   ]
  },
  {
   "cell_type": "code",
   "execution_count": 94,
   "metadata": {},
   "outputs": [
    {
     "data": {
      "text/plain": [
       "0.6233467510063255"
      ]
     },
     "execution_count": 94,
     "metadata": {},
     "output_type": "execute_result"
    }
   ],
   "source": [
    "accuracy_score(y_test, y_test_pred)"
   ]
  },
  {
   "cell_type": "markdown",
   "metadata": {},
   "source": [
    "### Deel learning"
   ]
  },
  {
   "cell_type": "code",
   "execution_count": 95,
   "metadata": {},
   "outputs": [],
   "source": [
    "model = Sequential()\n",
    "model.add(Dense(20, input_shape=(10,), activation='relu'))\n",
    "model.add(Dense(15, activation='relu'))\n",
    "model.add(Dense(1, activation='sigmoid'))"
   ]
  },
  {
   "cell_type": "code",
   "execution_count": 96,
   "metadata": {},
   "outputs": [],
   "source": [
    "model.compile(loss='binary_crossentropy', optimizer='adam', metrics=['accuracy'])"
   ]
  },
  {
   "cell_type": "code",
   "execution_count": 97,
   "metadata": {},
   "outputs": [
    {
     "data": {
      "text/plain": [
       "((6954, 10), (6954,))"
      ]
     },
     "execution_count": 97,
     "metadata": {},
     "output_type": "execute_result"
    }
   ],
   "source": [
    "X_train_std.shape, y_train.shape"
   ]
  },
  {
   "cell_type": "code",
   "execution_count": 98,
   "metadata": {
    "scrolled": true
   },
   "outputs": [
    {
     "name": "stdout",
     "output_type": "stream",
     "text": [
      "Epoch 1/150\n",
      "696/696 [==============================] - 2s 788us/step - loss: 0.6567 - accuracy: 0.6378\n",
      "Epoch 2/150\n",
      "696/696 [==============================] - 1s 736us/step - loss: 0.6491 - accuracy: 0.6479\n",
      "Epoch 3/150\n",
      "696/696 [==============================] - 0s 688us/step - loss: 0.6435 - accuracy: 0.65400s - loss: 0.6444 - accura\n",
      "Epoch 4/150\n",
      "696/696 [==============================] - 0s 692us/step - loss: 0.6378 - accuracy: 0.6622\n",
      "Epoch 5/150\n",
      "696/696 [==============================] - 1s 746us/step - loss: 0.6369 - accuracy: 0.6631\n",
      "Epoch 6/150\n",
      "696/696 [==============================] - 0s 663us/step - loss: 0.6430 - accuracy: 0.6513\n",
      "Epoch 7/150\n",
      "696/696 [==============================] - 1s 726us/step - loss: 0.6386 - accuracy: 0.6577\n",
      "Epoch 8/150\n",
      "696/696 [==============================] - 0s 699us/step - loss: 0.6346 - accuracy: 0.6635\n",
      "Epoch 9/150\n",
      "696/696 [==============================] - 0s 705us/step - loss: 0.6309 - accuracy: 0.6676\n",
      "Epoch 10/150\n",
      "696/696 [==============================] - 1s 722us/step - loss: 0.6332 - accuracy: 0.6645\n",
      "Epoch 11/150\n",
      "696/696 [==============================] - 0s 681us/step - loss: 0.6377 - accuracy: 0.6574\n",
      "Epoch 12/150\n",
      "696/696 [==============================] - 1s 739us/step - loss: 0.6314 - accuracy: 0.6631\n",
      "Epoch 13/150\n",
      "696/696 [==============================] - 0s 683us/step - loss: 0.6392 - accuracy: 0.6543\n",
      "Epoch 14/150\n",
      "696/696 [==============================] - 0s 677us/step - loss: 0.6434 - accuracy: 0.6469\n",
      "Epoch 15/150\n",
      "696/696 [==============================] - 0s 710us/step - loss: 0.6308 - accuracy: 0.6647\n",
      "Epoch 16/150\n",
      "696/696 [==============================] - 0s 695us/step - loss: 0.6374 - accuracy: 0.6580\n",
      "Epoch 17/150\n",
      "696/696 [==============================] - 1s 747us/step - loss: 0.6347 - accuracy: 0.6603\n",
      "Epoch 18/150\n",
      "696/696 [==============================] - 0s 661us/step - loss: 0.6375 - accuracy: 0.6539\n",
      "Epoch 19/150\n",
      "696/696 [==============================] - 0s 688us/step - loss: 0.6360 - accuracy: 0.6600\n",
      "Epoch 20/150\n",
      "696/696 [==============================] - 1s 722us/step - loss: 0.6371 - accuracy: 0.6521\n",
      "Epoch 21/150\n",
      "696/696 [==============================] - 1s 722us/step - loss: 0.6355 - accuracy: 0.6581\n",
      "Epoch 22/150\n",
      "696/696 [==============================] - 1s 728us/step - loss: 0.6373 - accuracy: 0.6542\n",
      "Epoch 23/150\n",
      "696/696 [==============================] - 0s 684us/step - loss: 0.6318 - accuracy: 0.6621\n",
      "Epoch 24/150\n",
      "696/696 [==============================] - 0s 703us/step - loss: 0.6313 - accuracy: 0.6597\n",
      "Epoch 25/150\n",
      "696/696 [==============================] - 0s 706us/step - loss: 0.6329 - accuracy: 0.6563\n",
      "Epoch 26/150\n",
      "696/696 [==============================] - 0s 675us/step - loss: 0.6313 - accuracy: 0.6569\n",
      "Epoch 27/150\n",
      "696/696 [==============================] - 0s 707us/step - loss: 0.6322 - accuracy: 0.6586\n",
      "Epoch 28/150\n",
      "696/696 [==============================] - 0s 667us/step - loss: 0.6360 - accuracy: 0.6532\n",
      "Epoch 29/150\n",
      "696/696 [==============================] - 0s 704us/step - loss: 0.6354 - accuracy: 0.6490\n",
      "Epoch 30/150\n",
      "696/696 [==============================] - 0s 712us/step - loss: 0.6365 - accuracy: 0.6536\n",
      "Epoch 31/150\n",
      "696/696 [==============================] - 0s 674us/step - loss: 0.6303 - accuracy: 0.6625\n",
      "Epoch 32/150\n",
      "696/696 [==============================] - 1s 766us/step - loss: 0.6352 - accuracy: 0.6523\n",
      "Epoch 33/150\n",
      "696/696 [==============================] - 0s 695us/step - loss: 0.6227 - accuracy: 0.6667\n",
      "Epoch 34/150\n",
      "696/696 [==============================] - 1s 719us/step - loss: 0.6250 - accuracy: 0.66570s - loss: 0.6231 - accuracy: \n",
      "Epoch 35/150\n",
      "696/696 [==============================] - 0s 691us/step - loss: 0.6270 - accuracy: 0.6600\n",
      "Epoch 36/150\n",
      "696/696 [==============================] - 0s 672us/step - loss: 0.6310 - accuracy: 0.6558\n",
      "Epoch 37/150\n",
      "696/696 [==============================] - 1s 791us/step - loss: 0.6305 - accuracy: 0.6611\n",
      "Epoch 38/150\n",
      "696/696 [==============================] - 1s 726us/step - loss: 0.6336 - accuracy: 0.6551\n",
      "Epoch 39/150\n",
      "696/696 [==============================] - 0s 715us/step - loss: 0.6296 - accuracy: 0.6578\n",
      "Epoch 40/150\n",
      "696/696 [==============================] - 0s 702us/step - loss: 0.6272 - accuracy: 0.6621\n",
      "Epoch 41/150\n",
      "696/696 [==============================] - 1s 731us/step - loss: 0.6245 - accuracy: 0.6648\n",
      "Epoch 42/150\n",
      "696/696 [==============================] - 1s 738us/step - loss: 0.6213 - accuracy: 0.6673\n",
      "Epoch 43/150\n",
      "696/696 [==============================] - 0s 678us/step - loss: 0.6287 - accuracy: 0.6585\n",
      "Epoch 44/150\n",
      "696/696 [==============================] - 1s 762us/step - loss: 0.6272 - accuracy: 0.6595\n",
      "Epoch 45/150\n",
      "696/696 [==============================] - 0s 702us/step - loss: 0.6298 - accuracy: 0.6605\n",
      "Epoch 46/150\n",
      "696/696 [==============================] - 1s 757us/step - loss: 0.6269 - accuracy: 0.6618\n",
      "Epoch 47/150\n",
      "696/696 [==============================] - 1s 718us/step - loss: 0.6268 - accuracy: 0.6625\n",
      "Epoch 48/150\n",
      "696/696 [==============================] - 0s 716us/step - loss: 0.6289 - accuracy: 0.6621\n",
      "Epoch 49/150\n",
      "696/696 [==============================] - 1s 759us/step - loss: 0.6238 - accuracy: 0.6609\n",
      "Epoch 50/150\n",
      "696/696 [==============================] - 0s 695us/step - loss: 0.6277 - accuracy: 0.6604\n",
      "Epoch 51/150\n",
      "696/696 [==============================] - 0s 708us/step - loss: 0.6259 - accuracy: 0.6593\n",
      "Epoch 52/150\n",
      "696/696 [==============================] - 0s 706us/step - loss: 0.6233 - accuracy: 0.6630\n",
      "Epoch 53/150\n",
      "696/696 [==============================] - 0s 665us/step - loss: 0.6274 - accuracy: 0.6563\n",
      "Epoch 54/150\n",
      "696/696 [==============================] - 1s 735us/step - loss: 0.6265 - accuracy: 0.6556\n",
      "Epoch 55/150\n",
      "696/696 [==============================] - 0s 673us/step - loss: 0.6256 - accuracy: 0.6618\n",
      "Epoch 56/150\n",
      "696/696 [==============================] - 0s 700us/step - loss: 0.6222 - accuracy: 0.6653\n",
      "Epoch 57/150\n",
      "696/696 [==============================] - 0s 710us/step - loss: 0.6259 - accuracy: 0.6647\n",
      "Epoch 58/150\n",
      "696/696 [==============================] - 0s 681us/step - loss: 0.6193 - accuracy: 0.6673\n",
      "Epoch 59/150\n",
      "696/696 [==============================] - 0s 715us/step - loss: 0.6310 - accuracy: 0.6537\n",
      "Epoch 60/150\n",
      "696/696 [==============================] - 0s 659us/step - loss: 0.6178 - accuracy: 0.6693\n",
      "Epoch 61/150\n",
      "696/696 [==============================] - 0s 713us/step - loss: 0.6136 - accuracy: 0.6738\n",
      "Epoch 62/150\n",
      "696/696 [==============================] - 0s 684us/step - loss: 0.6171 - accuracy: 0.6695\n",
      "Epoch 63/150\n",
      "696/696 [==============================] - 0s 659us/step - loss: 0.6175 - accuracy: 0.6633\n",
      "Epoch 64/150\n",
      "696/696 [==============================] - 1s 737us/step - loss: 0.6176 - accuracy: 0.6701\n",
      "Epoch 65/150\n",
      "696/696 [==============================] - 0s 666us/step - loss: 0.6201 - accuracy: 0.6611\n",
      "Epoch 66/150\n",
      "696/696 [==============================] - 1s 731us/step - loss: 0.6228 - accuracy: 0.6606\n",
      "Epoch 67/150\n",
      "696/696 [==============================] - 0s 679us/step - loss: 0.6143 - accuracy: 0.6718\n",
      "Epoch 68/150\n",
      "696/696 [==============================] - 0s 698us/step - loss: 0.6319 - accuracy: 0.6503\n",
      "Epoch 69/150\n",
      "696/696 [==============================] - 1s 750us/step - loss: 0.6200 - accuracy: 0.6664\n",
      "Epoch 70/150\n",
      "696/696 [==============================] - 0s 678us/step - loss: 0.6178 - accuracy: 0.6678\n",
      "Epoch 71/150\n",
      "696/696 [==============================] - 0s 698us/step - loss: 0.6232 - accuracy: 0.6633\n",
      "Epoch 72/150\n",
      "696/696 [==============================] - 0s 684us/step - loss: 0.6143 - accuracy: 0.6683\n",
      "Epoch 73/150\n",
      "696/696 [==============================] - 0s 707us/step - loss: 0.6139 - accuracy: 0.6697\n",
      "Epoch 74/150\n",
      "696/696 [==============================] - 1s 743us/step - loss: 0.6127 - accuracy: 0.6706\n",
      "Epoch 75/150\n",
      "696/696 [==============================] - 0s 658us/step - loss: 0.6114 - accuracy: 0.6703\n",
      "Epoch 76/150\n",
      "696/696 [==============================] - 0s 704us/step - loss: 0.6161 - accuracy: 0.6699\n",
      "Epoch 77/150\n",
      "696/696 [==============================] - 0s 692us/step - loss: 0.6108 - accuracy: 0.6729\n",
      "Epoch 78/150\n",
      "696/696 [==============================] - 1s 741us/step - loss: 0.6138 - accuracy: 0.6671\n",
      "Epoch 79/150\n"
     ]
    },
    {
     "name": "stdout",
     "output_type": "stream",
     "text": [
      "696/696 [==============================] - 1s 724us/step - loss: 0.6223 - accuracy: 0.66270s - loss: 0.6260 - accuracy: 0.65 - ETA: 0s - loss: 0.6244 - accuracy\n",
      "Epoch 80/150\n",
      "696/696 [==============================] - 1s 787us/step - loss: 0.6188 - accuracy: 0.6647\n",
      "Epoch 81/150\n",
      "696/696 [==============================] - 1s 769us/step - loss: 0.6196 - accuracy: 0.6623\n",
      "Epoch 82/150\n",
      "696/696 [==============================] - 0s 708us/step - loss: 0.6138 - accuracy: 0.6726\n",
      "Epoch 83/150\n",
      "696/696 [==============================] - 0s 688us/step - loss: 0.6169 - accuracy: 0.6640\n",
      "Epoch 84/150\n",
      "696/696 [==============================] - 0s 710us/step - loss: 0.6111 - accuracy: 0.6724\n",
      "Epoch 85/150\n",
      "696/696 [==============================] - 0s 692us/step - loss: 0.6187 - accuracy: 0.6714\n",
      "Epoch 86/150\n",
      "696/696 [==============================] - 1s 750us/step - loss: 0.6160 - accuracy: 0.6635\n",
      "Epoch 87/150\n",
      "696/696 [==============================] - 0s 657us/step - loss: 0.6184 - accuracy: 0.6686\n",
      "Epoch 88/150\n",
      "696/696 [==============================] - 0s 694us/step - loss: 0.6159 - accuracy: 0.6746\n",
      "Epoch 89/150\n",
      "696/696 [==============================] - 1s 722us/step - loss: 0.6104 - accuracy: 0.6734\n",
      "Epoch 90/150\n",
      "696/696 [==============================] - 0s 686us/step - loss: 0.6159 - accuracy: 0.6652\n",
      "Epoch 91/150\n",
      "696/696 [==============================] - 1s 743us/step - loss: 0.6169 - accuracy: 0.6692\n",
      "Epoch 92/150\n",
      "696/696 [==============================] - 0s 662us/step - loss: 0.6142 - accuracy: 0.6737\n",
      "Epoch 93/150\n",
      "696/696 [==============================] - 1s 734us/step - loss: 0.6107 - accuracy: 0.6749\n",
      "Epoch 94/150\n",
      "696/696 [==============================] - 1s 725us/step - loss: 0.6180 - accuracy: 0.6684\n",
      "Epoch 95/150\n",
      "696/696 [==============================] - 0s 667us/step - loss: 0.6191 - accuracy: 0.6631\n",
      "Epoch 96/150\n",
      "696/696 [==============================] - 1s 749us/step - loss: 0.6072 - accuracy: 0.6756\n",
      "Epoch 97/150\n",
      "696/696 [==============================] - 1s 718us/step - loss: 0.6163 - accuracy: 0.6692\n",
      "Epoch 98/150\n",
      "696/696 [==============================] - 1s 744us/step - loss: 0.6125 - accuracy: 0.6754\n",
      "Epoch 99/150\n",
      "696/696 [==============================] - 1s 748us/step - loss: 0.6178 - accuracy: 0.6639\n",
      "Epoch 100/150\n",
      "696/696 [==============================] - 0s 660us/step - loss: 0.6151 - accuracy: 0.6654\n",
      "Epoch 101/150\n",
      "696/696 [==============================] - 1s 740us/step - loss: 0.6149 - accuracy: 0.6599\n",
      "Epoch 102/150\n",
      "696/696 [==============================] - 0s 695us/step - loss: 0.6069 - accuracy: 0.6788\n",
      "Epoch 103/150\n",
      "696/696 [==============================] - 1s 720us/step - loss: 0.6162 - accuracy: 0.6712\n",
      "Epoch 104/150\n",
      "696/696 [==============================] - 0s 662us/step - loss: 0.6105 - accuracy: 0.6781\n",
      "Epoch 105/150\n",
      "696/696 [==============================] - 0s 698us/step - loss: 0.6140 - accuracy: 0.6725\n",
      "Epoch 106/150\n",
      "696/696 [==============================] - 1s 800us/step - loss: 0.6110 - accuracy: 0.6649\n",
      "Epoch 107/150\n",
      "696/696 [==============================] - 0s 664us/step - loss: 0.6189 - accuracy: 0.6631\n",
      "Epoch 108/150\n",
      "696/696 [==============================] - 1s 754us/step - loss: 0.6023 - accuracy: 0.6821\n",
      "Epoch 109/150\n",
      "696/696 [==============================] - 0s 710us/step - loss: 0.6092 - accuracy: 0.6765\n",
      "Epoch 110/150\n",
      "696/696 [==============================] - 1s 875us/step - loss: 0.6087 - accuracy: 0.6728\n",
      "Epoch 111/150\n",
      "696/696 [==============================] - 0s 704us/step - loss: 0.6141 - accuracy: 0.6719\n",
      "Epoch 112/150\n",
      "696/696 [==============================] - 1s 757us/step - loss: 0.6112 - accuracy: 0.6731\n",
      "Epoch 113/150\n",
      "696/696 [==============================] - 1s 793us/step - loss: 0.6206 - accuracy: 0.6600\n",
      "Epoch 114/150\n",
      "696/696 [==============================] - 1s 813us/step - loss: 0.6107 - accuracy: 0.66990s - loss: 0.6127 \n",
      "Epoch 115/150\n",
      "696/696 [==============================] - 1s 766us/step - loss: 0.6097 - accuracy: 0.67640s - loss: 0.6082 - accu\n",
      "Epoch 116/150\n",
      "696/696 [==============================] - 0s 691us/step - loss: 0.6081 - accuracy: 0.6721\n",
      "Epoch 117/150\n",
      "696/696 [==============================] - 0s 715us/step - loss: 0.6092 - accuracy: 0.6677\n",
      "Epoch 118/150\n",
      "696/696 [==============================] - 1s 736us/step - loss: 0.6155 - accuracy: 0.6702\n",
      "Epoch 119/150\n",
      "696/696 [==============================] - 1s 790us/step - loss: 0.6110 - accuracy: 0.6717\n",
      "Epoch 120/150\n",
      "696/696 [==============================] - 1s 770us/step - loss: 0.6072 - accuracy: 0.6713\n",
      "Epoch 121/150\n",
      "696/696 [==============================] - 0s 675us/step - loss: 0.6102 - accuracy: 0.6701\n",
      "Epoch 122/150\n",
      "696/696 [==============================] - 1s 812us/step - loss: 0.6034 - accuracy: 0.6817\n",
      "Epoch 123/150\n",
      "696/696 [==============================] - 0s 701us/step - loss: 0.6116 - accuracy: 0.6794\n",
      "Epoch 124/150\n",
      "696/696 [==============================] - 0s 696us/step - loss: 0.6096 - accuracy: 0.6796\n",
      "Epoch 125/150\n",
      "696/696 [==============================] - 1s 725us/step - loss: 0.6240 - accuracy: 0.6602\n",
      "Epoch 126/150\n",
      "696/696 [==============================] - 0s 686us/step - loss: 0.6073 - accuracy: 0.6771\n",
      "Epoch 127/150\n",
      "696/696 [==============================] - 1s 719us/step - loss: 0.6125 - accuracy: 0.6702\n",
      "Epoch 128/150\n",
      "696/696 [==============================] - 0s 661us/step - loss: 0.6140 - accuracy: 0.6657\n",
      "Epoch 129/150\n",
      "696/696 [==============================] - 0s 693us/step - loss: 0.6032 - accuracy: 0.6806\n",
      "Epoch 130/150\n",
      "696/696 [==============================] - 1s 722us/step - loss: 0.6074 - accuracy: 0.6692\n",
      "Epoch 131/150\n",
      "696/696 [==============================] - 0s 654us/step - loss: 0.6072 - accuracy: 0.6702\n",
      "Epoch 132/150\n",
      "696/696 [==============================] - 1s 756us/step - loss: 0.6096 - accuracy: 0.6738\n",
      "Epoch 133/150\n",
      "696/696 [==============================] - 0s 689us/step - loss: 0.6129 - accuracy: 0.6711\n",
      "Epoch 134/150\n",
      "696/696 [==============================] - 1s 919us/step - loss: 0.6061 - accuracy: 0.6707\n",
      "Epoch 135/150\n",
      "696/696 [==============================] - 0s 668us/step - loss: 0.6095 - accuracy: 0.6748\n",
      "Epoch 136/150\n",
      "696/696 [==============================] - 0s 675us/step - loss: 0.6043 - accuracy: 0.6771\n",
      "Epoch 137/150\n",
      "696/696 [==============================] - 1s 739us/step - loss: 0.6061 - accuracy: 0.6774\n",
      "Epoch 138/150\n",
      "696/696 [==============================] - 0s 679us/step - loss: 0.6055 - accuracy: 0.6766\n",
      "Epoch 139/150\n",
      "696/696 [==============================] - 1s 745us/step - loss: 0.6148 - accuracy: 0.6661\n",
      "Epoch 140/150\n",
      "696/696 [==============================] - 0s 691us/step - loss: 0.6079 - accuracy: 0.6727\n",
      "Epoch 141/150\n",
      "696/696 [==============================] - 0s 674us/step - loss: 0.6036 - accuracy: 0.6809\n",
      "Epoch 142/150\n",
      "696/696 [==============================] - 1s 750us/step - loss: 0.6113 - accuracy: 0.6694\n",
      "Epoch 143/150\n",
      "696/696 [==============================] - 0s 673us/step - loss: 0.6083 - accuracy: 0.6760\n",
      "Epoch 144/150\n",
      "696/696 [==============================] - 1s 775us/step - loss: 0.6110 - accuracy: 0.6725\n",
      "Epoch 145/150\n",
      "696/696 [==============================] - 0s 683us/step - loss: 0.6093 - accuracy: 0.6708\n",
      "Epoch 146/150\n",
      "696/696 [==============================] - 0s 688us/step - loss: 0.6024 - accuracy: 0.6800\n",
      "Epoch 147/150\n",
      "696/696 [==============================] - 1s 721us/step - loss: 0.6003 - accuracy: 0.6861\n",
      "Epoch 148/150\n",
      "696/696 [==============================] - 0s 662us/step - loss: 0.6014 - accuracy: 0.6811\n",
      "Epoch 149/150\n",
      "696/696 [==============================] - 1s 1ms/step - loss: 0.6091 - accuracy: 0.6777\n",
      "Epoch 150/150\n",
      "696/696 [==============================] - 0s 696us/step - loss: 0.6107 - accuracy: 0.6715\n"
     ]
    },
    {
     "data": {
      "text/plain": [
       "<tensorflow.python.keras.callbacks.History at 0x1ec489df1c0>"
      ]
     },
     "execution_count": 98,
     "metadata": {},
     "output_type": "execute_result"
    }
   ],
   "source": [
    "model.fit(X_train_std, y_train, epochs=150, batch_size=10,verbose=1)"
   ]
  },
  {
   "cell_type": "code",
   "execution_count": 99,
   "metadata": {
    "scrolled": false
   },
   "outputs": [
    {
     "name": "stdout",
     "output_type": "stream",
     "text": [
      "218/218 [==============================] - 0s 599us/step - loss: 0.6027 - accuracy: 0.6798\n",
      "Accuracy: 67.98\n"
     ]
    }
   ],
   "source": [
    "_, accuracy = model.evaluate(X_train_std, y_train)\n",
    "print('Accuracy: %.2f' % (accuracy*100))"
   ]
  },
  {
   "cell_type": "code",
   "execution_count": 100,
   "metadata": {},
   "outputs": [],
   "source": [
    "model.save('keras_model.h5')"
   ]
  },
  {
   "cell_type": "code",
   "execution_count": 101,
   "metadata": {},
   "outputs": [],
   "source": [
    "def get_model_predictions(x_train, y_train, X, model_name='SVM', model_object=None):\n",
    "    replace_encoding = lambda x: 'Succesfully reached Destination' if x>0.5 else 'Failed to reach'\n",
    "    if model_name == 'SVM':\n",
    "        model = SVC(probability=True)\n",
    "        model.fit(x_train,y_train)\n",
    "        y = model.predict_proba(X.reshape(1,-1))\n",
    "        outcome = y[0][1]\n",
    "        return outcome, replace_encoding(outcome)\n",
    "    elif model_name == 'logreg':\n",
    "        model = LogisticRegression()\n",
    "        model.fit(x_train,y_train)\n",
    "        y = model.predict_proba(X.reshape(1,-1))\n",
    "        outcome = y[0][1]\n",
    "        return outcome, replace_encoding(outcome)\n",
    "    elif model_name == 'randomforest':\n",
    "        model = RandomForestClassifier()\n",
    "        model.fit(x_train,y_train)\n",
    "        y = model.predict_proba(X.reshape(1,-1))\n",
    "        outcome = y[0][1]\n",
    "        return outcome, replace_encoding(outcome)\n",
    "    elif model_name == 'xgboost':\n",
    "        model = XGBClassifier()\n",
    "        model.fit(x_train,y_train)\n",
    "        y = model.predict_proba(X.reshape(1,-1))\n",
    "        outcome = y[0][1]\n",
    "        return outcome, replace_encoding(outcome)\n",
    "    elif model_name == 'dnn':\n",
    "        model = model = load_model('keras_model.h5')\n",
    "        y = model.predict(X.reshape(1,-1))\n",
    "        outcome = y[0][0]\n",
    "        return outcome, replace_encoding(outcome)"
   ]
  },
  {
   "cell_type": "code",
   "execution_count": 102,
   "metadata": {},
   "outputs": [],
   "source": [
    "# x = np.array([0,0,0,58.0,1,1,43.0,3576.0,2,1])\n",
    "x = np.array([0,0,0,33.0,0,0,0.0,1283.0,2,1])"
   ]
  },
  {
   "cell_type": "code",
   "execution_count": 103,
   "metadata": {
    "scrolled": false
   },
   "outputs": [
    {
     "data": {
      "text/plain": [
       "(1.0, 'Succesfully reached Destination')"
      ]
     },
     "execution_count": 103,
     "metadata": {},
     "output_type": "execute_result"
    }
   ],
   "source": [
    "get_model_predictions(X_train_std,y_train,x,model_name='logreg')"
   ]
  },
  {
   "cell_type": "code",
   "execution_count": 104,
   "metadata": {},
   "outputs": [],
   "source": [
    "def encode_input(home_planet, cyro, dest, age,travel_company, vip, room_service, food_court, cols, p_s):\n",
    "    context = {\n",
    "        'HomePlanet' : {'Europa': 0, 'Earth': 1, 'Mars': 2},\n",
    "        'CryoSleep' : {False: 0, True: 1},\n",
    "        'Destination' : {'TRAPPIST-1e': 0, 'PSO J318.5-22': 1, '55 Cancri e': 2},\n",
    "        'Travel_company' : {'Tulsa Inc': 0, 'Blue Horizon': 1},\n",
    "        'P_S' : {'P': 0, 'S': 1},\n",
    "        'Cols' : {'B': 0, 'F': 1, 'A': 2, 'G': 3, 'E': 4, 'D': 5, 'C': 6, 'T': 7},\n",
    "        'VIP' : {False: 0, True: 1},\n",
    "    }\n",
    "    home_planet_en = context['HomePlanet'][home_planet]\n",
    "    cyro_en = context['CryoSleep'][cyro]\n",
    "    dest_en = context['Destination'][dest]\n",
    "    travel_company_en = context['Travel_company'][travel_company]\n",
    "    p_s_en = context['P_S'][p_s]\n",
    "    cols_en = context['Cols'][cols]\n",
    "    vip_en = context['VIP'][vip]\n",
    "    \n",
    "    inp = np.array([home_planet_en, cyro_en, dest_en, age,travel_company_en, vip_en, room_service, food_court, cols_en, p_s_en])\n",
    "    return inp"
   ]
  },
  {
   "cell_type": "code",
   "execution_count": 105,
   "metadata": {},
   "outputs": [],
   "source": [
    "x1 = encode_input(home_planet='Earth', cyro=False, dest='TRAPPIST-1e', age=34, travel_company='Tulsa Inc', vip=False, room_service=43.0, food_court=40, cols='B', p_s='P')"
   ]
  },
  {
   "cell_type": "code",
   "execution_count": null,
   "metadata": {},
   "outputs": [],
   "source": []
  }
 ],
 "metadata": {
  "kernelspec": {
   "display_name": "Python 3",
   "language": "python",
   "name": "python3"
  },
  "language_info": {
   "codemirror_mode": {
    "name": "ipython",
    "version": 3
   },
   "file_extension": ".py",
   "mimetype": "text/x-python",
   "name": "python",
   "nbconvert_exporter": "python",
   "pygments_lexer": "ipython3",
   "version": "3.8.5"
  }
 },
 "nbformat": 4,
 "nbformat_minor": 4
}
